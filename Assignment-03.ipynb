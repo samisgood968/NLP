{
 "cells": [
  {
   "cell_type": "markdown",
   "metadata": {},
   "source": [
    "## Assignment-03 First Step of Machine Learning: Model and Evaluation"
   ]
  },
  {
   "cell_type": "markdown",
   "metadata": {},
   "source": [
    "同学们，今天我们的学习了基本的机器学习概念，相比你已经对机器学习的这些方法有一个基本的认识了。值得说明的是，机器学习不仅仅是一系列方法，更重要的是一种思维体系，即：依据以往的、现有的数据，构建某种方法来解决未见过的问题。而且决策树，贝叶斯只是实现这个目标的一个方法，包括之后的神经网络。很有可能有一天，神经网络也会被淘汰，但是重要的是我们要理解机器学习的目标，就是尽可能的自动化解决未知的问题。"
   ]
  },
  {
   "cell_type": "markdown",
   "metadata": {},
   "source": [
    "![](https://timgsa.baidu.com/timg?image&quality=80&size=b9999_10000&sec=1571556399207&di=4a97dc15ad08dd49d3748d1edf6109b3&imgtype=0&src=http%3A%2F%2Fc.hiphotos.baidu.com%2Fzhidao%2Fwh%3D450%2C600%2Fsign%3Dae742c6aedcd7b89e93932873a146e91%2F5d6034a85edf8db1b16050c40223dd54574e74c7.jpg)"
   ]
  },
  {
   "cell_type": "markdown",
   "metadata": {},
   "source": [
    "## Part-1 Programming Review 编程回顾"
   ]
  },
  {
   "cell_type": "markdown",
   "metadata": {},
   "source": [
    "#### 1. Re-code the Linear-Regression Model using scikit-learning(10 points)"
   ]
  },
  {
   "cell_type": "markdown",
   "metadata": {},
   "source": [
    "<评阅点>： \n",
    "> + 是否完成线性回归模型 (4')\n",
    "+ 能够进行预测新数据(3')\n",
    "+ 能够进行可视化操作(3')"
   ]
  },
  {
   "cell_type": "markdown",
   "metadata": {},
   "source": [
    "Step1:构建实验数据"
   ]
  },
  {
   "cell_type": "code",
   "execution_count": 1,
   "metadata": {},
   "outputs": [
    {
     "name": "stdout",
     "output_type": "stream",
     "text": [
      "[[0.42263935 0.70096303]\n",
      " [0.43338333 0.46951975]\n",
      " [0.33474427 0.3909981 ]\n",
      " [0.22464168 0.25140504]\n",
      " [0.55349898 0.98968987]\n",
      " [0.28606732 0.14836812]\n",
      " [0.9233147  0.76168098]\n",
      " [0.55586944 0.80845912]\n",
      " [0.85037112 0.49781062]\n",
      " [0.13079829 0.16745221]\n",
      " [0.28519077 0.68120855]\n",
      " [0.94044029 0.82347412]\n",
      " [0.9754404  0.93130927]\n",
      " [0.27736426 0.99829097]\n",
      " [0.21760075 0.80720756]\n",
      " [0.3534398  0.41159243]\n",
      " [0.64257659 0.52660495]\n",
      " [0.34027497 0.82647774]\n",
      " [0.29678531 0.57961346]\n",
      " [0.03207163 0.61637854]]\n"
     ]
    }
   ],
   "source": [
    "import numpy as np\n",
    "randomData = np.random.random((20,2))\n",
    "print(randomData)"
   ]
  },
  {
   "cell_type": "code",
   "execution_count": 2,
   "metadata": {
    "scrolled": true
   },
   "outputs": [
    {
     "name": "stdout",
     "output_type": "stream",
     "text": [
      "[[0.42263935 0.70096303]\n",
      " [0.43338333 0.46951975]\n",
      " [0.33474427 0.3909981 ]\n",
      " [0.22464168 0.25140504]\n",
      " [0.55349898 0.98968987]\n",
      " [0.28606732 0.14836812]\n",
      " [0.9233147  0.76168098]\n",
      " [0.55586944 0.80845912]\n",
      " [0.85037112 0.49781062]\n",
      " [0.13079829 0.16745221]\n",
      " [0.28519077 0.68120855]\n",
      " [0.94044029 0.82347412]\n",
      " [0.9754404  0.93130927]\n",
      " [0.27736426 0.99829097]\n",
      " [0.21760075 0.80720756]\n",
      " [0.3534398  0.41159243]\n",
      " [0.64257659 0.52660495]\n",
      " [0.34027497 0.82647774]\n",
      " [0.29678531 0.57961346]\n",
      " [0.03207163 0.61637854]]\n"
     ]
    }
   ],
   "source": [
    "# 假设自变量X包含两个特征维度\n",
    "X = randomData[:]\n",
    "print(X)"
   ]
  },
  {
   "cell_type": "code",
   "execution_count": 3,
   "metadata": {},
   "outputs": [
    {
     "name": "stdout",
     "output_type": "stream",
     "text": [
      "{'X': [[<class 'float'>, <class 'float'>]], 'return': [<class 'float'>]}\n",
      "[5.226697382310128, 7.633222180682621, -2.8892981454842817, 4.386682535121501, -0.5799536595391137, 4.300328987368818, 8.963363634723674, 0.936354255268987, -0.9807678966898301, 2.864502116924443, -2.25842582995274, 9.18459738814544, 10.58673098567086, 3.576292327132836, -2.129201161033283, 1.2252164775912036, 1.4447899028795796, 0.308218094166715, 7.502658342599679, 5.771090776158797]\n"
     ]
    }
   ],
   "source": [
    "# 生成Y\n",
    "import random\n",
    "def randomGernerateY(X:[[float,float]])->[float]:\n",
    "    print(randomGernerateY.__annotations__)\n",
    "    \n",
    "    return [3.14*x_i[0]+2.71*x_i[1]+random.randint(-5, 5) for x_i in X]\n",
    "\n",
    "Y = randomGernerateY(X)\n",
    "print(Y)"
   ]
  },
  {
   "cell_type": "markdown",
   "metadata": {},
   "source": [
    "Step2:拟合二元线性回归方程"
   ]
  },
  {
   "cell_type": "code",
   "execution_count": 4,
   "metadata": {},
   "outputs": [],
   "source": [
    "from sklearn.linear_model import LinearRegression\n",
    "reg = LinearRegression().fit(X,Y)"
   ]
  },
  {
   "cell_type": "code",
   "execution_count": 5,
   "metadata": {},
   "outputs": [
    {
     "data": {
      "text/plain": [
       "0.13689066025469987"
      ]
     },
     "execution_count": 5,
     "metadata": {},
     "output_type": "execute_result"
    }
   ],
   "source": [
    "# 计算二元线性回归模型决定系数R^2\n",
    "reg.score(X,Y)"
   ]
  },
  {
   "cell_type": "code",
   "execution_count": 6,
   "metadata": {},
   "outputs": [
    {
     "data": {
      "text/plain": [
       "array([ 5.77737193, -1.10609814])"
      ]
     },
     "execution_count": 6,
     "metadata": {},
     "output_type": "execute_result"
    }
   ],
   "source": [
    "# 计算回归系数，斜率\n",
    "reg.coef_"
   ]
  },
  {
   "cell_type": "code",
   "execution_count": 7,
   "metadata": {},
   "outputs": [
    {
     "data": {
      "text/plain": [
       "1.31688036937768"
      ]
     },
     "execution_count": 7,
     "metadata": {},
     "output_type": "execute_result"
    }
   ],
   "source": [
    "# 回归方程常数项\n",
    "reg.intercept_"
   ]
  },
  {
   "cell_type": "code",
   "execution_count": 8,
   "metadata": {},
   "outputs": [
    {
     "data": {
      "text/plain": [
       "array([10.26636496])"
      ]
     },
     "execution_count": 8,
     "metadata": {},
     "output_type": "execute_result"
    }
   ],
   "source": [
    "# 用回归方程预测\n",
    "reg.predict(np.array([[2.2,3.4]]))"
   ]
  },
  {
   "cell_type": "code",
   "execution_count": 9,
   "metadata": {},
   "outputs": [],
   "source": [
    "# 写出回归方程\n",
    "def bi_linearRegressionEquation(X:[float,float])->float:\n",
    "    return reg.coef_[0]*X[0]+reg.coef_[1]*X[1]+reg.intercept_"
   ]
  },
  {
   "cell_type": "code",
   "execution_count": 10,
   "metadata": {},
   "outputs": [
    {
     "data": {
      "text/plain": [
       "10.266364959433957"
      ]
     },
     "execution_count": 10,
     "metadata": {},
     "output_type": "execute_result"
    }
   ],
   "source": [
    "# reg.predict和写出的回归方程的预测结果是一致的\n",
    "bi_linearRegressionEquation([2.2,3.4])"
   ]
  },
  {
   "cell_type": "code",
   "execution_count": null,
   "metadata": {},
   "outputs": [],
   "source": [
    "# # 基于回归方程计算全部预测值\n",
    "# Y_hat = [reg.coef_[0]*x_i[0]+reg.coef_[1]*x_i[1]-reg.intercept_ for x_i in X]\n",
    "# print(Y_hat)"
   ]
  },
  {
   "cell_type": "markdown",
   "metadata": {},
   "source": [
    "Step3：可视化回归结果"
   ]
  },
  {
   "cell_type": "markdown",
   "metadata": {},
   "source": [
    "二元回归方程的图像是一个平面。  \n",
    "这个平面与两个坐标轴平面相交的直线分别为：  \n",
    "Y_1 = 斜率_1 * X_1 + 截距  \n",
    "Y_2 = 斜率_2 * X_2 + 截距  "
   ]
  },
  {
   "cell_type": "code",
   "execution_count": 11,
   "metadata": {
    "scrolled": true
   },
   "outputs": [
    {
     "data": {
      "image/png": "[encoded data removed]",
      "text/plain": [
       "<Figure size 432x288 with 1 Axes>"
      ]
     },
     "metadata": {
      "needs_background": "light"
     },
     "output_type": "display_data"
    }
   ],
   "source": [
    "# 回归结果可视化\n",
    "import matplotlib.pyplot as plt\n",
    "from mpl_toolkits.mplot3d import Axes3D\n",
    "\n",
    "fig = plt.figure()\n",
    "ax = Axes3D(fig)\n",
    "\n",
    "# 绘制散点图\n",
    "ax.scatter(X[:,0],X[:,1],Y)\n",
    "\n",
    "# 绘制二元线性回归方程的平面\n",
    "# 将点在X轴和Y轴的坐标值列表转化成坐标矩阵（就是把n个坐标值向量复制n次，生成n*n矩阵）\n",
    "X_meshgrid, Y_meshgrid = np.meshgrid(X[:,0],X[:,1]) \n",
    "# 将坐标矩阵带入回归方程计算点在Z轴的坐标值矩阵\n",
    "Z_meshgrid = reg.coef_[0]*X_meshgrid+reg.coef_[1]*Y_meshgrid+reg.intercept_\n",
    "\n",
    "ax.plot_surface(X_meshgrid,Y_meshgrid,Z_meshgrid,rcount=20,ccount=20,color='red')\n",
    "plt.show()"
   ]
  },
  {
   "cell_type": "markdown",
   "metadata": {},
   "source": [
    "#### 2. Complete the unfinished KNN Model using pure python to solve the previous Line-Regression problem. (8 points)"
   ]
  },
  {
   "cell_type": "markdown",
   "metadata": {},
   "source": [
    "<评阅点>:\n",
    "> + 是否完成了KNN模型 (4')\n",
    "+ 是否能够预测新的数据 (4')"
   ]
  },
  {
   "cell_type": "markdown",
   "metadata": {},
   "source": [
    "Step1:构造实验数据"
   ]
  },
  {
   "cell_type": "code",
   "execution_count": 1,
   "metadata": {
    "scrolled": true
   },
   "outputs": [
    {
     "name": "stdout",
     "output_type": "stream",
     "text": [
      "[[0.72756738 0.79629314]\n",
      " [0.31071607 0.77459302]\n",
      " [0.33117111 0.31989256]\n",
      " [0.77026448 0.64996243]\n",
      " [0.04962395 0.23997573]\n",
      " [0.29302154 0.92327556]\n",
      " [0.41208321 0.78476839]\n",
      " [0.29846755 0.82342467]\n",
      " [0.94194965 0.54589654]\n",
      " [0.6888874  0.83016344]\n",
      " [0.55156705 0.24643365]\n",
      " [0.15565021 0.23723487]\n",
      " [0.57777583 0.84954036]\n",
      " [0.06855454 0.98129578]\n",
      " [0.07060447 0.40070469]\n",
      " [0.73013738 0.09134598]\n",
      " [0.70612517 0.10367353]\n",
      " [0.84028371 0.13968132]\n",
      " [0.02638581 0.00587734]\n",
      " [0.92627646 0.81807017]]\n"
     ]
    }
   ],
   "source": [
    "import numpy as np\n",
    "\n",
    "randomData = np.random.random((20,2))\n",
    "print(randomData)"
   ]
  },
  {
   "cell_type": "code",
   "execution_count": 2,
   "metadata": {},
   "outputs": [
    {
     "name": "stdout",
     "output_type": "stream",
     "text": [
      "[[0.72756738 0.79629314]\n",
      " [0.31071607 0.77459302]\n",
      " [0.33117111 0.31989256]\n",
      " [0.77026448 0.64996243]\n",
      " [0.04962395 0.23997573]\n",
      " [0.29302154 0.92327556]\n",
      " [0.41208321 0.78476839]\n",
      " [0.29846755 0.82342467]\n",
      " [0.94194965 0.54589654]\n",
      " [0.6888874  0.83016344]\n",
      " [0.55156705 0.24643365]\n",
      " [0.15565021 0.23723487]\n",
      " [0.57777583 0.84954036]\n",
      " [0.06855454 0.98129578]\n",
      " [0.07060447 0.40070469]\n",
      " [0.73013738 0.09134598]\n",
      " [0.70612517 0.10367353]\n",
      " [0.84028371 0.13968132]\n",
      " [0.02638581 0.00587734]\n",
      " [0.92627646 0.81807017]]\n"
     ]
    }
   ],
   "source": [
    "# 假设自变量X包含两个特征维度\n",
    "X = randomData[:]\n",
    "print(X)"
   ]
  },
  {
   "cell_type": "code",
   "execution_count": 3,
   "metadata": {},
   "outputs": [
    {
     "name": "stdout",
     "output_type": "stream",
     "text": [
      "{'X': [[<class 'float'>, <class 'float'>]], 'return': [<class 'float'>]}\n",
      "[6.442515975697077, 4.074795543051575, -0.09321389094344212, 4.180028659796092, 0.8061534480880344, 6.422164397270629, -0.579336370526208, 5.168668959714217, 7.437101521875876, 8.412849385614784, -0.6002442612690468, -1.8683518392502025, 2.116470494356136, 5.874572824649649, 4.307607736137701, 0.5401789655807048, -2.501811712991215, 6.0170272224212, 1.0987790386794314, 10.125478257205359]\n"
     ]
    }
   ],
   "source": [
    "# 生成因变量序列Y\n",
    "import random\n",
    "def randomGernerateY(X:[[float,float]])->[float]:\n",
    "    print(randomGernerateY.__annotations__)\n",
    "    \n",
    "    return [3.14*x_i[0]+2.71*x_i[1]+random.randint(-5, 5) for x_i in X]\n",
    "\n",
    "Y = randomGernerateY(X)\n",
    "print(Y)"
   ]
  },
  {
   "cell_type": "markdown",
   "metadata": {},
   "source": [
    "Step2：生成KNN模型"
   ]
  },
  {
   "cell_type": "code",
   "execution_count": 4,
   "metadata": {},
   "outputs": [],
   "source": [
    "# 构建KNN模型\n",
    "def KNN_Model(X:[[float]],y:[float])->'[(X,y)]':\n",
    "    return [ ( X_i,y_i) for X_i,y_i in zip(X,y)]"
   ]
  },
  {
   "cell_type": "code",
   "execution_count": 5,
   "metadata": {},
   "outputs": [
    {
     "name": "stdout",
     "output_type": "stream",
     "text": [
      "当前KNN模型包含20个数据点\n"
     ]
    }
   ],
   "source": [
    "# 基于实验数据生成KNN模型\n",
    "KNN_model = KNN_Model(X=X,y=Y)\n",
    "print('当前KNN模型包含%d个数据点'%len(KNN_model))"
   ]
  },
  {
   "cell_type": "markdown",
   "metadata": {},
   "source": [
    "Step3:构建基于KNN的预测函数"
   ]
  },
  {
   "cell_type": "code",
   "execution_count": 6,
   "metadata": {},
   "outputs": [],
   "source": [
    "from scipy.spatial.distance import cosine\n",
    "import numpy as np"
   ]
  },
  {
   "cell_type": "code",
   "execution_count": 7,
   "metadata": {},
   "outputs": [],
   "source": [
    "# 构建计算两个自变量向量之间距离的函数。\n",
    "# 本例采用余弦距离：\n",
    "def cosineDistance(X_1,X_2):\n",
    "    return cosine(X_1,X_2)"
   ]
  },
  {
   "cell_type": "code",
   "execution_count": 8,
   "metadata": {},
   "outputs": [],
   "source": [
    "# 基于KNN的预测函数有3个步骤：找出离x最近的k个x_i—>找出每个x_i对应的y_i—>计算出这些y_i的均值并返回。\n",
    "# 自变量向量x之间的距离可以用余弦距离度量。\n",
    "# 找到最近的k个点后，可以用这些点的因变量的均值作为预测结果。\n",
    "\n",
    "# 构建预测函数\n",
    "def KNN_Predict(X:[float], KNNModel:'[(X,y)]', distance:'function', k=5)->float:\n",
    "    if len(X) != len(KNNModel[0][0]):return '输入向量的维度数与模型不一致，请重新输入。'\n",
    "    \n",
    "    most_similars = sorted(KNNModel, key=lambda dot_i: distance(dot_i[0], X))[:k]\n",
    "    print('KNN模型中距离输入向量最近的%d个数据点：'%k)\n",
    "    print(most_similars)\n",
    "    \n",
    "    y_hats = [y_i for x_i, y_i in most_similars]\n",
    "    return np.mean(y_hats)"
   ]
  },
  {
   "cell_type": "code",
   "execution_count": 9,
   "metadata": {},
   "outputs": [
    {
     "name": "stdout",
     "output_type": "stream",
     "text": [
      "KNN模型中距离输入向量最近的5个数据点：\n",
      "[(array([0.6888874 , 0.83016344]), 8.412849385614784), (array([0.57777583, 0.84954036]), 2.116470494356136), (array([0.72756738, 0.79629314]), 6.442515975697077), (array([0.15565021, 0.23723487]), -1.8683518392502025), (array([0.33117111, 0.31989256]), -0.09321389094344212)]\n",
      "\n",
      "KNN模型的预测结果为：3.002054\n"
     ]
    }
   ],
   "source": [
    "# 基于Step2生成的KNN模型预测新的自变量对应的因变量：\n",
    "\n",
    "preResult = KNN_Predict(X=[5.1,6.5], KNNModel=KNN_model, distance=cosineDistance)\n",
    "print('\\nKNN模型的预测结果为：%f'%preResult)"
   ]
  },
  {
   "cell_type": "markdown",
   "metadata": {},
   "source": [
    "#### 3. Re-code the Decision Tree, which could sort the features by salience. (12 points)"
   ]
  },
  {
   "cell_type": "markdown",
   "metadata": {},
   "source": [
    "<评阅点>\n",
    "> + 是否实现了信息熵 (1' )\n",
    "+ 是否实现了最优先特征点的选择(5')\n",
    "+ 是否实现了持续的特征选则(6')"
   ]
  },
  {
   "cell_type": "markdown",
   "metadata": {},
   "source": [
    "Step1：生成实验数据"
   ]
  },
  {
   "cell_type": "code",
   "execution_count": 1,
   "metadata": {},
   "outputs": [],
   "source": [
    "# 课堂上的mock_data 'pet'恰好跟'bought'完全一致，不利于展示决策树的原理，这里调整了pet序列的2个值。\n",
    "mock_data = {\n",
    "    'gender':['F', 'F', 'F', 'F', 'M', 'M', 'M'],\n",
    "    'income': ['+10', '-10', '+10', '+10', '+10', '+10', '-10'],\n",
    "    'family_number': [1, 1, 2, 1, 1, 1, 2],\n",
    "    'pet': [1, 1, 1, 1, 1, 0, 1],\n",
    "    'bought': [1, 1, 1, 0, 0, 0, 1],\n",
    "}"
   ]
  },
  {
   "cell_type": "code",
   "execution_count": 2,
   "metadata": {},
   "outputs": [],
   "source": [
    "import pandas as pd"
   ]
  },
  {
   "cell_type": "code",
   "execution_count": 3,
   "metadata": {},
   "outputs": [],
   "source": [
    "dataset = pd.DataFrame.from_dict(mock_data)"
   ]
  },
  {
   "cell_type": "code",
   "execution_count": 4,
   "metadata": {},
   "outputs": [
    {
     "data": {
      "text/html": [
       "<div>\n",
       "<style scoped>\n",
       "    .dataframe tbody tr th:only-of-type {\n",
       "        vertical-align: middle;\n",
       "    }\n",
       "\n",
       "    .dataframe tbody tr th {\n",
       "        vertical-align: top;\n",
       "    }\n",
       "\n",
       "    .dataframe thead th {\n",
       "        text-align: right;\n",
       "    }\n",
       "</style>\n",
       "<table border=\"1\" class=\"dataframe\">\n",
       "  <thead>\n",
       "    <tr style=\"text-align: right;\">\n",
       "      <th></th>\n",
       "      <th>gender</th>\n",
       "      <th>income</th>\n",
       "      <th>family_number</th>\n",
       "      <th>pet</th>\n",
       "      <th>bought</th>\n",
       "    </tr>\n",
       "  </thead>\n",
       "  <tbody>\n",
       "    <tr>\n",
       "      <th>0</th>\n",
       "      <td>F</td>\n",
       "      <td>+10</td>\n",
       "      <td>1</td>\n",
       "      <td>1</td>\n",
       "      <td>1</td>\n",
       "    </tr>\n",
       "    <tr>\n",
       "      <th>1</th>\n",
       "      <td>F</td>\n",
       "      <td>-10</td>\n",
       "      <td>1</td>\n",
       "      <td>1</td>\n",
       "      <td>1</td>\n",
       "    </tr>\n",
       "    <tr>\n",
       "      <th>2</th>\n",
       "      <td>F</td>\n",
       "      <td>+10</td>\n",
       "      <td>2</td>\n",
       "      <td>1</td>\n",
       "      <td>1</td>\n",
       "    </tr>\n",
       "    <tr>\n",
       "      <th>3</th>\n",
       "      <td>F</td>\n",
       "      <td>+10</td>\n",
       "      <td>1</td>\n",
       "      <td>1</td>\n",
       "      <td>0</td>\n",
       "    </tr>\n",
       "    <tr>\n",
       "      <th>4</th>\n",
       "      <td>M</td>\n",
       "      <td>+10</td>\n",
       "      <td>1</td>\n",
       "      <td>1</td>\n",
       "      <td>0</td>\n",
       "    </tr>\n",
       "    <tr>\n",
       "      <th>5</th>\n",
       "      <td>M</td>\n",
       "      <td>+10</td>\n",
       "      <td>1</td>\n",
       "      <td>0</td>\n",
       "      <td>0</td>\n",
       "    </tr>\n",
       "    <tr>\n",
       "      <th>6</th>\n",
       "      <td>M</td>\n",
       "      <td>-10</td>\n",
       "      <td>2</td>\n",
       "      <td>1</td>\n",
       "      <td>1</td>\n",
       "    </tr>\n",
       "  </tbody>\n",
       "</table>\n",
       "</div>"
      ],
      "text/plain": [
       "  gender income  family_number  pet  bought\n",
       "0      F    +10              1    1       1\n",
       "1      F    -10              1    1       1\n",
       "2      F    +10              2    1       1\n",
       "3      F    +10              1    1       0\n",
       "4      M    +10              1    1       0\n",
       "5      M    +10              1    0       0\n",
       "6      M    -10              2    1       1"
      ]
     },
     "execution_count": 4,
     "metadata": {},
     "output_type": "execute_result"
    }
   ],
   "source": [
    "dataset"
   ]
  },
  {
   "cell_type": "markdown",
   "metadata": {},
   "source": [
    "Step2：定义选择最优特征的函数"
   ]
  },
  {
   "cell_type": "markdown",
   "metadata": {},
   "source": [
    "信息熵 $ Entropy = -\\sum_i^n Pr(x_i) log(Pr(x_i)) $"
   ]
  },
  {
   "cell_type": "code",
   "execution_count": 5,
   "metadata": {},
   "outputs": [],
   "source": [
    "from collections import Counter"
   ]
  },
  {
   "cell_type": "code",
   "execution_count": 6,
   "metadata": {},
   "outputs": [],
   "source": [
    "import numpy as np"
   ]
  },
  {
   "cell_type": "code",
   "execution_count": 7,
   "metadata": {},
   "outputs": [],
   "source": [
    "# 计算一个列表的信息熵\n",
    "def entropy(elements):\n",
    "    '''群体的混乱程度'''\n",
    "    counter = Counter(elements)\n",
    "    probs = [counter[c] / len(elements) for c in set(elements)]\n",
    "    return - sum(p * np.log2(p) for p in probs)"
   ]
  },
  {
   "cell_type": "code",
   "execution_count": 8,
   "metadata": {},
   "outputs": [],
   "source": [
    "from icecream import ic"
   ]
  },
  {
   "cell_type": "code",
   "execution_count": 9,
   "metadata": {},
   "outputs": [],
   "source": [
    "# 找出条件熵H(D|A)最小的特征。\n",
    "def find_mini_conditional_entropy_feature(training_data: pd.DataFrame, dependent_feature: str) -> tuple:\n",
    "    independent_features_set = set(training_data.columns.tolist()) - {dependent_feature} #集合保存全部自变量特征维度\n",
    "    spliter = None # 保存最优特征维度及特征值：(特征维度,特征值)\n",
    "    min_entropy = float('inf') # 保存最小熵的值，初始化为正无穷\n",
    "    \n",
    "    for f in independent_features_set:\n",
    "#         ic(f)\n",
    "        values = set(training_data[f]) # 当前特征维度下的特征值集合\n",
    "#         ic(values)\n",
    "        for v in values:\n",
    "            dependent_spliter_1 = training_data[training_data[f] == v][dependent_feature].tolist() # 等于特征值的因变量序列\n",
    "#             ic(sub_spliter_1)\n",
    "            # split by the current feature and one value\n",
    "\n",
    "            entropy_1 = entropy(dependent_spliter_1) # 等于特征值的因变量序列的熵\n",
    "#             ic(entropy_1)\n",
    "            \n",
    "            dependent_spliter_2 = training_data[training_data[f] != v][dependent_feature].tolist() # 不等于特征值的因变量序列\n",
    "#             ic(sub_spliter_2)\n",
    "            \n",
    "            entropy_2 = entropy(dependent_spliter_2) # 不等于特征值的因变量序列的熵\n",
    "#             ic(entropy_2)\n",
    "            \n",
    "            entropy_v = entropy_1 + entropy_2 # 当前特征维度及特征值的熵\n",
    "#             ic(entropy_v)\n",
    "            \n",
    "            if entropy_v <= min_entropy: # 保存最小熵，和最小熵对应的特征维度及特征值\n",
    "                min_entropy = entropy_v                \n",
    "                spliter = (f, v)\n",
    "    \n",
    "#     print('spliter is: {}'.format(spliter))\n",
    "#     print('the min entropy is: {}'.format(min_entropy))\n",
    "    \n",
    "    return spliter #(特征维度,特征值)"
   ]
  },
  {
   "cell_type": "code",
   "execution_count": 10,
   "metadata": {},
   "outputs": [
    {
     "data": {
      "text/plain": [
       "('pet', 1)"
      ]
     },
     "execution_count": 10,
     "metadata": {},
     "output_type": "execute_result"
    }
   ],
   "source": [
    "find_mini_conditional_entropy_feature(training_data=dataset, dependent_feature='bought')"
   ]
  },
  {
   "cell_type": "markdown",
   "metadata": {},
   "source": [
    "#### 4. Finish the K-Means using 2-D matplotlib (8 points)"
   ]
  },
  {
   "cell_type": "markdown",
   "metadata": {},
   "source": [
    "<评阅点>\n",
    "> + 是否完成了KMeans模型，基于scikit-learning (3')\n",
    "+ 是否完成了可视化任务（5'）"
   ]
  },
  {
   "cell_type": "markdown",
   "metadata": {},
   "source": [
    "Step1：生成实验数据"
   ]
  },
  {
   "cell_type": "code",
   "execution_count": 1,
   "metadata": {
    "scrolled": true
   },
   "outputs": [
    {
     "name": "stdout",
     "output_type": "stream",
     "text": [
      "[[0.76969606 0.21706717]\n",
      " [0.78481319 0.2441877 ]\n",
      " [0.33451361 0.64701886]\n",
      " [0.21229113 0.07842373]\n",
      " [0.47079975 0.33169344]\n",
      " [0.42615444 0.77041482]\n",
      " [0.44403302 0.90308212]\n",
      " [0.60420772 0.15241495]\n",
      " [0.7366171  0.3977698 ]\n",
      " [0.25172219 0.24270623]\n",
      " [0.77551162 0.53807754]\n",
      " [0.86464978 0.87595881]\n",
      " [0.03972692 0.55159063]\n",
      " [0.48457065 0.81046014]\n",
      " [0.59998834 0.25236012]\n",
      " [0.43111995 0.92372398]\n",
      " [0.46080236 0.68028362]\n",
      " [0.18387376 0.18930801]\n",
      " [0.37552182 0.59987566]\n",
      " [0.38134859 0.63244742]]\n"
     ]
    }
   ],
   "source": [
    "import numpy as np\n",
    "\n",
    "randomData=np.random.random((20,2))\n",
    "print(randomData)"
   ]
  },
  {
   "cell_type": "code",
   "execution_count": 2,
   "metadata": {},
   "outputs": [
    {
     "name": "stdout",
     "output_type": "stream",
     "text": [
      "[[0.76969606 0.21706717]\n",
      " [0.78481319 0.2441877 ]\n",
      " [0.33451361 0.64701886]\n",
      " [0.21229113 0.07842373]\n",
      " [0.47079975 0.33169344]\n",
      " [0.42615444 0.77041482]\n",
      " [0.44403302 0.90308212]\n",
      " [0.60420772 0.15241495]\n",
      " [0.7366171  0.3977698 ]\n",
      " [0.25172219 0.24270623]\n",
      " [0.77551162 0.53807754]\n",
      " [0.86464978 0.87595881]\n",
      " [0.03972692 0.55159063]\n",
      " [0.48457065 0.81046014]\n",
      " [0.59998834 0.25236012]\n",
      " [0.43111995 0.92372398]\n",
      " [0.46080236 0.68028362]\n",
      " [0.18387376 0.18930801]\n",
      " [0.37552182 0.59987566]\n",
      " [0.38134859 0.63244742]]\n"
     ]
    }
   ],
   "source": [
    "# 生成自变量向量序列X\n",
    "\n",
    "X = randomData[:]\n",
    "print(X)"
   ]
  },
  {
   "cell_type": "code",
   "execution_count": 4,
   "metadata": {},
   "outputs": [],
   "source": [
    "import random"
   ]
  },
  {
   "cell_type": "code",
   "execution_count": 5,
   "metadata": {},
   "outputs": [
    {
     "name": "stdout",
     "output_type": "stream",
     "text": [
      "[4.005097673321171, 7.126062069460658, 2.803793848042008, -4.120877550756236, -1.6227995756823717, 2.425949093277147, 8.841616209455285, -2.6897432597924618, 4.390933848525365, 5.4481415565925015, 6.8932966157158475, 1.088848684272378, 4.619553145047412, 5.717898831337212, 1.5678593136006689, 6.857008610669334, 4.290488008916794, -3.9096116919983523, 6.804801553733309, 3.9113670896836306]\n"
     ]
    }
   ],
   "source": [
    "# 生成因变量序列y\n",
    "\n",
    "y = [3.14*x_i[0]+2.71*x_i[1]+random.randint(-5, 5) for x_i in X]\n",
    "print(y)"
   ]
  },
  {
   "cell_type": "markdown",
   "metadata": {},
   "source": [
    "Step2:生成KNN模型"
   ]
  },
  {
   "cell_type": "code",
   "execution_count": 6,
   "metadata": {},
   "outputs": [],
   "source": [
    "# 构建KNN模型\n",
    "def KNN_Model(X:[[float]],y:[float])->'[[X,y]]':\n",
    "    return [ (X_i,y_i) for X_i,y_i in zip(X,y)]"
   ]
  },
  {
   "cell_type": "code",
   "execution_count": 7,
   "metadata": {},
   "outputs": [
    {
     "name": "stdout",
     "output_type": "stream",
     "text": [
      "当前KNN模型包含20个数据点\n"
     ]
    }
   ],
   "source": [
    "# 基于实验数据生成KNN模型\n",
    "KNN_model = KNN_Model(X=X,y=y)\n",
    "print('当前KNN模型包含%d个数据点'%len(KNN_model))\n",
    "\n",
    "# print(KNN_model)"
   ]
  },
  {
   "cell_type": "markdown",
   "metadata": {},
   "source": [
    "Step3:构建用于预测的K-Means函数"
   ]
  },
  {
   "cell_type": "code",
   "execution_count": 8,
   "metadata": {},
   "outputs": [],
   "source": [
    "from scipy.spatial.distance import cosine\n",
    "import numpy as np"
   ]
  },
  {
   "cell_type": "code",
   "execution_count": 9,
   "metadata": {},
   "outputs": [],
   "source": [
    "# 构建计算两个自变量向量之间距离的函数。\n",
    "# 本例采用余弦距离：\n",
    "def cosineDistance(X_1,X_2):\n",
    "    return cosine(X_1,X_2)"
   ]
  },
  {
   "cell_type": "code",
   "execution_count": 10,
   "metadata": {},
   "outputs": [],
   "source": [
    "# 基于KNN的预测函数有3个步骤：找出离x最近的k个x_i—>找出每个x_i对应的y_i—>计算出这些y_i的均值并返回。\n",
    "# 自变量向量x之间的距离可以用余弦距离度量。\n",
    "# 找到最近的k个点后，可以用这些点的因变量的均值作为预测结果。\n",
    "\n",
    "# 构建预测函数\n",
    "def K_Means_predict(X:[float], KNNModel:'[(X,y)]', distance:'function', k=5)->float:\n",
    "    if len(X) != len(KNNModel[0][0]):return '输入向量的维度数与模型不一致，请重新输入。'\n",
    "    \n",
    "    result_dict={'最近数据点':[],'预测结果':0.0}\n",
    "    \n",
    "    most_similars = sorted(KNNModel, key=lambda dot_i: distance(dot_i[0], X))[:k]\n",
    "    result_dict['最近数据点']=most_similars\n",
    "    \n",
    "    y_hats = [y_i for x_i, y_i in most_similars]\n",
    "    result_dict['预测结果']=np.mean(y_hats)\n",
    "    \n",
    "    return result_dict"
   ]
  },
  {
   "cell_type": "code",
   "execution_count": 11,
   "metadata": {
    "scrolled": true
   },
   "outputs": [
    {
     "name": "stdout",
     "output_type": "stream",
     "text": [
      "KNN模型中距离输入向量最近的点：\n",
      "[(array([0.03972692, 0.55159063]), 4.619553145047412), (array([0.43111995, 0.92372398]), 6.857008610669334), (array([0.44403302, 0.90308212]), 8.841616209455285), (array([0.33451361, 0.64701886]), 2.803793848042008), (array([0.42615444, 0.77041482]), 2.425949093277147)]\n",
      "\n",
      "KNN模型的预测结果为：5.109584\n"
     ]
    }
   ],
   "source": [
    "# 基于Step2生成的KNN模型预测新的自变量对应的因变量：\n",
    "X_input=[0.14,0.65]\n",
    "\n",
    "result_dict = K_Means_predict(X=X_input, KNNModel=KNN_model, distance=cosineDistance)\n",
    "print('KNN模型中距离输入向量最近的点：')\n",
    "print(result_dict['最近数据点'])\n",
    "print('\\nKNN模型的预测结果为：%f'%result_dict['预测结果'])"
   ]
  },
  {
   "cell_type": "markdown",
   "metadata": {},
   "source": [
    "Step4:可视化KNN模型与K-Means预测结果"
   ]
  },
  {
   "cell_type": "code",
   "execution_count": 12,
   "metadata": {},
   "outputs": [
    {
     "data": {
      "image/png": "[encoded data removed]",
      "text/plain": [
       "<Figure size 432x288 with 1 Axes>"
      ]
     },
     "metadata": {
      "needs_background": "light"
     },
     "output_type": "display_data"
    }
   ],
   "source": [
    "import matplotlib.pyplot as plt\n",
    "from mpl_toolkits.mplot3d import Axes3D\n",
    "\n",
    "fig = plt.figure()\n",
    "ax = Axes3D(fig)\n",
    "\n",
    "# 绘制散点图，区分三种点：1个预测结果数据点，k个邻近数据点，其他数据点\n",
    "\n",
    "# 1个预测点的坐标向量\n",
    "X_pre_1 = [X_input[0]]\n",
    "X_pre_2 = [X_input[1]]\n",
    "Y_pre = [result_dict['预测结果']]\n",
    "\n",
    "# k个邻近点的坐标向量\n",
    "X_k_1 = [ dot_i[0][0] for dot_i in result_dict['最近数据点']]\n",
    "X_k_2 = [ dot_i[0][1] for dot_i in result_dict['最近数据点']]\n",
    "Y_k = [ dot_i[1] for dot_i in result_dict['最近数据点']]\n",
    "\n",
    "\n",
    "# 其他数据点的坐标向量\n",
    "X_others_1 = [vec[0] for vec in X if vec[0] not in X_k_1]\n",
    "X_others_2 = [vec[1] for vec in X if vec[1] not in X_k_2]\n",
    "Y_others = [y_i for y_i in y if y_i not in Y_k]\n",
    "\n",
    "ax.scatter(X_pre_1,X_pre_2,Y_pre,color='red',marker='^')\n",
    "ax.scatter(X_k_1,X_k_2,Y_k,color='green')\n",
    "ax.scatter(X_others_1,X_others_2,Y_others,color='black')\n",
    "ax.set_xlabel('X label')\n",
    "ax.set_ylabel('Y label')\n",
    "ax.set_zlabel('Z label')\n",
    "plt.show()"
   ]
  },
  {
   "cell_type": "markdown",
   "metadata": {},
   "source": [
    "## Part-2 Question and Answer 问答"
   ]
  },
  {
   "cell_type": "markdown",
   "metadata": {},
   "source": [
    "#### 1. What's the *model*? why  all the models are wrong, but some are useful? (5 points) "
   ]
  },
  {
   "cell_type": "markdown",
   "metadata": {},
   "source": [
    "Ans:模型是对现实事物的抽象。现实事物往往非常复杂，模型只能对其主要特征进行抽象，所以模型只在某些特定条件、场景下才能正确描述、预测事物，而不可能完全模拟现实事物。"
   ]
  },
  {
   "cell_type": "markdown",
   "metadata": {},
   "source": [
    "<评阅点>\n",
    "> + 对模型的理解是否正确,对模型的抽象性是否正确(5')"
   ]
  },
  {
   "cell_type": "markdown",
   "metadata": {},
   "source": [
    "#### 2. What's the underfitting and overfitting? List the reasons that could make model overfitting or underfitting. (10 points)"
   ]
  },
  {
   "cell_type": "markdown",
   "metadata": {},
   "source": [
    "Ans:欠拟合是指算法训练得到的模型在训练集上表现差，没有学到数据的规律。  \n",
    "引起欠拟合的原因包括：  \n",
    "1 模型过于简单，例如数据本身是非线性的但使用了线性模型。  \n",
    "2 特征太少，无法正确建立统计关系。  \n",
    "\n",
    "过拟合是指算法在训练集上表现好，但在测试集上表现不好，泛化性能差。\n",
    "引起过拟合的原因包括：  \n",
    "1 模型过于复杂，以至于拟合了训练样本集中的噪声。此时需要选用更简单的模型，或者对模型进行裁剪。  \n",
    "2 训练样本太少或者缺乏代表性。此时需要增加样本数，或者增加样本的多样性。  \n",
    "3 训练样本噪声太大，导致模型拟合了这些噪声。这时需要剔除噪声数据或者改用对噪声不敏感的模型。  "
   ]
  },
  {
   "cell_type": "markdown",
   "metadata": {},
   "source": [
    "<评阅点>\n",
    "> + 对过拟合和欠拟合的理解是否正确 (3')\n",
    "+ 对欠拟合产生的原因是否理解正确(2')\n",
    "+ 对过拟合产生的原因是否理解正确(5')"
   ]
  },
  {
   "cell_type": "markdown",
   "metadata": {},
   "source": [
    "#### 3. What's the precision, recall, AUC, F1, F2score. What are they mainly target on? (12')"
   ]
  },
  {
   "cell_type": "markdown",
   "metadata": {},
   "source": [
    "Ans:  \n",
    "$Precision(精确率) = \\frac{True\\&Positive(TP)}{True\\&Positive(TP)+False\\&Positive(FP)}$  \n",
    "\n",
    "$Recall(召回率)=\\frac{True\\&Positive(TP)}{True\\&Positive(TP)+False\\&Negative(FN)}$  \n",
    "\n",
    "$F1=\\frac{2*Precision*Recall}{Precision+Recall}$  \n",
    "\n",
    "$F_\\alpha=\\frac{(1+\\alpha^2)*Precision*Recall}{\\alpha^2*Precision+Recall}$  \n",
    "有些情况下精确率更重要些，那就调整$\\alpha$的值小于1，如果召回率更重要些，那就调整$\\alpha$的值大于1。\n",
    "\n",
    "$F2=\\frac{5*Precision*Recall}{4*Precision+Recall}$  \n",
    "\n",
    "AUC（Area under roc Curve）是指ROC曲线下的面积大小，计算AUC值需要沿着ROC横轴做积分。真实场景中ROC曲线一般都会在y=x这条直线的上方，所以AUC的取值一般在0.5~1之间。AUC的值越大，说明该模型的性能越好。\n",
    "假定ROC曲线是由坐标为$(x_1,y_1),(x_2,y_2)...(x_m,y_m)$的点按序连接而形成，则AUC可估算为:  \n",
    "$AUC=\\frac{1}{2}\\displaystyle \\sum^{m-1}_{i=1}(x_{i+1}-x_i)(y_{i+1}-y_i)$  \n",
    "\n",
    "上述指标都应用于评估二分类模型的效果。"
   ]
  },
  {
   "cell_type": "markdown",
   "metadata": {},
   "source": [
    "<评阅点>\n",
    "> + 对precision, recall, AUC, F1, F2 理解是否正确(6‘)\n",
    "+ 对precision, recall, AUC, F1, F2的使用侧重点是否理解正确 (6’)"
   ]
  },
  {
   "cell_type": "markdown",
   "metadata": {},
   "source": [
    "#### 4. Based on our course and yourself mind, what's the machine learning?  (8')"
   ]
  },
  {
   "cell_type": "markdown",
   "metadata": {},
   "source": [
    "Ans:传统算法系统，是已经给定了一个算法处理逻辑，按照这个算法处理逻辑处理输入，就能得到相应的输出。  \n",
    "\n",
    "但现实生活中的很多问题无法一一列出所有情况，这就需要机器自己从数据里学习特征。比如识别手写数字，情况千变万化，不可能事先在算法处理逻辑中列出所有情况（不可能用无数个if-esle），这就需要机器从输入数据中自动学习。  \n",
    "\n",
    "而机器学习系统，输入是给定的数据，从这些数据中学习出算法，然后通过这个学习到的算法模型判断输入的新数据，得到输出。  \n",
    "\n"
   ]
  },
  {
   "cell_type": "markdown",
   "metadata": {},
   "source": [
    "<评阅点> 开放式问题，是否能说出来机器学习这种思维方式和传统的分析式编程的区别（8'）"
   ]
  },
  {
   "cell_type": "markdown",
   "metadata": {},
   "source": [
    "#### 5. \"正确定义了机器学习模型的评价标准(evaluation)， 问题基本上就已经解决一半\". 这句话是否正确？你是怎么看待的？ (8‘)"
   ]
  },
  {
   "cell_type": "markdown",
   "metadata": {},
   "source": [
    "是正确的。机器学习的通用流程为：问题建模—>特征工程—>模型选择—>模型融合。  \n",
    "\n",
    "后面两个步骤“模型选择”、“模型融合”都需要依据评价标准效果来开展，所以可以近似认为评价标准解决了“一半”问题。    \n"
   ]
  },
  {
   "cell_type": "markdown",
   "metadata": {},
   "source": [
    "<评阅点> 开放式问题，主要看能理解评价指标对机器学习模型的重要性."
   ]
  },
  {
   "cell_type": "markdown",
   "metadata": {},
   "source": [
    "## Part-03 Programming Practice 编程练习"
   ]
  },
  {
   "cell_type": "markdown",
   "metadata": {},
   "source": [
    "1. In our course and previous practice, we complete some importance components of Decision Tree. In this problem, you need to build a **completed** Decision Tree Model. You show finish a `predicate()` function, which accepts three parameters **<gender, income, family_number>**, and outputs the predicated 'bought': 1 or 0.  (20 points)"
   ]
  },
  {
   "cell_type": "markdown",
   "metadata": {},
   "source": [
    "<评阅点>\n",
    "> + 是否将之前的决策树模型的部分进行合并组装， predicate函数能够顺利运行(8')\n",
    "+ 是够能够输入未曾见过的X变量，例如gender, income, family_number 分别是： <M, -10, 1>, 模型能够预测出结果 (12')"
   ]
  },
  {
   "cell_type": "markdown",
   "metadata": {},
   "source": [
    "由于课堂时间有限，高老师只讲解了信息熵的定义和选择最优特征的思路，但没有讲解决策树的生成算法，因此我在课下参考李航的《统计学习方法》，根据其中介绍的ID3算法才完成决策树生成与预测的作业。"
   ]
  },
  {
   "cell_type": "markdown",
   "metadata": {},
   "source": [
    "ID3算法如下：  \n",
    "（1）若D中所有实例属于同一类Ck，则T为单结点树，并将类Ck作为该结点的类标记，返回T；  \n",
    "（2）若A＝Ø，则T为单结点树，并将D中实例数最大的类Ck作为该结点的类标记，返回T；  \n",
    "（3）否则，计算A中各特征对D的信息增益，选择信息增益最大的特征Ag；  \n",
    "（4）如果Ag的信息增益小于阈值 ，则置T为单结点树，并将D中实例数最大的类Ck作为该结点的类标记，返回T；  \n",
    "（5）否则，对Ag的每一可能值ai，依Ag＝ai将D分割为若干非空子集Di，将Di中实例数最大的类作为标记，构建子结点，由结点及其子结点构成树T，返回T；  \n",
    "（6）对第i个子结点，以Di为训练集，以A-{Ag}为特征集，递归地调用步（1）～步（5），得到子树Ti，返回Ti。 "
   ]
  },
  {
   "cell_type": "markdown",
   "metadata": {},
   "source": [
    "实现算法的过程如下："
   ]
  },
  {
   "cell_type": "markdown",
   "metadata": {},
   "source": [
    "Step1：生成实验数据"
   ]
  },
  {
   "cell_type": "code",
   "execution_count": 1,
   "metadata": {},
   "outputs": [],
   "source": [
    "# 课堂上的mock_data 'pet'恰好跟'bought'完全一致，不利于展示决策树的原理，这里调整了pet序列的2个值。\n",
    "mock_data = {\n",
    "    'gender':['F', 'F', 'F', 'F', 'M', 'M', 'M'],\n",
    "    'income': ['+10', '-10', '+10', '+10', '+10', '+10', '-10'],\n",
    "    'family_number': [1, 1, 2, 1, 1, 1, 2],\n",
    "    'pet': [1, 1, 1, 1, 1, 0, 1],\n",
    "    'bought': [1, 1, 1, 0, 0, 0, 1],\n",
    "}"
   ]
  },
  {
   "cell_type": "code",
   "execution_count": 2,
   "metadata": {},
   "outputs": [],
   "source": [
    "import pandas as pd"
   ]
  },
  {
   "cell_type": "code",
   "execution_count": 3,
   "metadata": {},
   "outputs": [],
   "source": [
    "dataset = pd.DataFrame.from_dict(mock_data)"
   ]
  },
  {
   "cell_type": "code",
   "execution_count": 4,
   "metadata": {},
   "outputs": [
    {
     "data": {
      "text/html": [
       "<div>\n",
       "<style scoped>\n",
       "    .dataframe tbody tr th:only-of-type {\n",
       "        vertical-align: middle;\n",
       "    }\n",
       "\n",
       "    .dataframe tbody tr th {\n",
       "        vertical-align: top;\n",
       "    }\n",
       "\n",
       "    .dataframe thead th {\n",
       "        text-align: right;\n",
       "    }\n",
       "</style>\n",
       "<table border=\"1\" class=\"dataframe\">\n",
       "  <thead>\n",
       "    <tr style=\"text-align: right;\">\n",
       "      <th></th>\n",
       "      <th>gender</th>\n",
       "      <th>income</th>\n",
       "      <th>family_number</th>\n",
       "      <th>pet</th>\n",
       "      <th>bought</th>\n",
       "    </tr>\n",
       "  </thead>\n",
       "  <tbody>\n",
       "    <tr>\n",
       "      <th>0</th>\n",
       "      <td>F</td>\n",
       "      <td>+10</td>\n",
       "      <td>1</td>\n",
       "      <td>1</td>\n",
       "      <td>1</td>\n",
       "    </tr>\n",
       "    <tr>\n",
       "      <th>1</th>\n",
       "      <td>F</td>\n",
       "      <td>-10</td>\n",
       "      <td>1</td>\n",
       "      <td>1</td>\n",
       "      <td>1</td>\n",
       "    </tr>\n",
       "    <tr>\n",
       "      <th>2</th>\n",
       "      <td>F</td>\n",
       "      <td>+10</td>\n",
       "      <td>2</td>\n",
       "      <td>1</td>\n",
       "      <td>1</td>\n",
       "    </tr>\n",
       "    <tr>\n",
       "      <th>3</th>\n",
       "      <td>F</td>\n",
       "      <td>+10</td>\n",
       "      <td>1</td>\n",
       "      <td>1</td>\n",
       "      <td>0</td>\n",
       "    </tr>\n",
       "    <tr>\n",
       "      <th>4</th>\n",
       "      <td>M</td>\n",
       "      <td>+10</td>\n",
       "      <td>1</td>\n",
       "      <td>1</td>\n",
       "      <td>0</td>\n",
       "    </tr>\n",
       "    <tr>\n",
       "      <th>5</th>\n",
       "      <td>M</td>\n",
       "      <td>+10</td>\n",
       "      <td>1</td>\n",
       "      <td>0</td>\n",
       "      <td>0</td>\n",
       "    </tr>\n",
       "    <tr>\n",
       "      <th>6</th>\n",
       "      <td>M</td>\n",
       "      <td>-10</td>\n",
       "      <td>2</td>\n",
       "      <td>1</td>\n",
       "      <td>1</td>\n",
       "    </tr>\n",
       "  </tbody>\n",
       "</table>\n",
       "</div>"
      ],
      "text/plain": [
       "  gender income  family_number  pet  bought\n",
       "0      F    +10              1    1       1\n",
       "1      F    -10              1    1       1\n",
       "2      F    +10              2    1       1\n",
       "3      F    +10              1    1       0\n",
       "4      M    +10              1    1       0\n",
       "5      M    +10              1    0       0\n",
       "6      M    -10              2    1       1"
      ]
     },
     "execution_count": 4,
     "metadata": {},
     "output_type": "execute_result"
    }
   ],
   "source": [
    "dataset"
   ]
  },
  {
   "cell_type": "markdown",
   "metadata": {},
   "source": [
    "Step2：定义选择最优特征的函数"
   ]
  },
  {
   "cell_type": "markdown",
   "metadata": {},
   "source": [
    "信息熵 $ Entropy = -\\sum_i^n Pr(x_i) log_2(Pr(x_i)) $"
   ]
  },
  {
   "cell_type": "code",
   "execution_count": 5,
   "metadata": {},
   "outputs": [],
   "source": [
    "from collections import Counter"
   ]
  },
  {
   "cell_type": "code",
   "execution_count": 6,
   "metadata": {},
   "outputs": [],
   "source": [
    "import numpy as np"
   ]
  },
  {
   "cell_type": "code",
   "execution_count": 7,
   "metadata": {},
   "outputs": [],
   "source": [
    "# 计算一个列表的信息熵\n",
    "def entropy(elements):\n",
    "    '''群体的混乱程度'''\n",
    "    counter = Counter(elements)\n",
    "    probs = [counter[c] / len(elements) for c in set(elements)]\n",
    "    return - sum(p * np.log2(p) for p in probs)"
   ]
  },
  {
   "cell_type": "markdown",
   "metadata": {},
   "source": [
    "定义函数找出“信息增益比”最大的特征。\n",
    "\n",
    "“信息增益”表示得知特征X的信息而使得类Y的信息的不确定性减少的程度。  \n",
    "信息增益 = (因变量序列Y的信息熵) - (根据某个 自变量/特征 X的不同取值对Y分组，全部分组的信息熵的总和)  \n",
    "$g(D,A) = H(D) - H(D|A)$  \n",
    "\n",
    "信息增益比 = 信息增益 / 因变量序列Y的信息熵  \n",
    "$g_R(D,A) = g(D,A)/H(D)$  \n",
    "\n",
    "在对比不同 自变量/特征 的信息增益、信息增益比时，因变量序列Y的信息熵$H(D)$是不变的，那么条件熵$H(D|A)$越小，信息增益、信息增益比越大。  \n",
    "于是问题可以等价转换为“找出条件熵$H(D|A)$最小的特征”。  \n",
    "\n",
    "不计算信息增益，也就不存在与阈值做比较，那么需要对ID3算法做简化，省去第4步：“（4）如果Ag的信息增益小于阈值 ，则置T为单结点树，并将D中实例数最大的类Ck作为该结点的类标记，返回T”。"
   ]
  },
  {
   "cell_type": "code",
   "execution_count": 8,
   "metadata": {},
   "outputs": [],
   "source": [
    "from icecream import ic"
   ]
  },
  {
   "cell_type": "code",
   "execution_count": 9,
   "metadata": {},
   "outputs": [],
   "source": [
    "# 找出条件熵H(D|A)最小的特征。\n",
    "def find_mini_conditional_entropy_feature(training_data: pd.DataFrame, dependent_feature: str) -> tuple:\n",
    "    independent_features_set = set(training_data.columns.tolist()) - {dependent_feature} #集合保存全部自变量特征维度\n",
    "    spliter = None # 保存最优特征维度及特征值：(特征维度,特征值)\n",
    "    min_entropy = float('inf') # 保存最小熵的值，初始化为正无穷\n",
    "    \n",
    "    for f in independent_features_set:\n",
    "#         ic(f)\n",
    "        values = set(training_data[f]) # 当前特征维度下的特征值集合\n",
    "#         ic(values)\n",
    "        for v in values:\n",
    "            dependent_spliter_1 = training_data[training_data[f] == v][dependent_feature].tolist() # 等于特征值的因变量序列\n",
    "#             ic(sub_spliter_1)\n",
    "            # split by the current feature and one value\n",
    "\n",
    "            entropy_1 = entropy(dependent_spliter_1) # 等于特征值的因变量序列的熵\n",
    "#             ic(entropy_1)\n",
    "            \n",
    "            dependent_spliter_2 = training_data[training_data[f] != v][dependent_feature].tolist() # 不等于特征值的因变量序列\n",
    "#             ic(sub_spliter_2)\n",
    "            \n",
    "            entropy_2 = entropy(dependent_spliter_2) # 不等于特征值的因变量序列的熵\n",
    "#             ic(entropy_2)\n",
    "            \n",
    "            entropy_v = entropy_1 + entropy_2 # 当前特征维度及特征值的熵\n",
    "#             ic(entropy_v)\n",
    "            \n",
    "            if entropy_v <= min_entropy: # 保存最小熵，和最小熵对应的特征维度及特征值\n",
    "                min_entropy = entropy_v                \n",
    "                spliter = (f, v)\n",
    "    \n",
    "#     print('spliter is: {}'.format(spliter))\n",
    "#     print('the min entropy is: {}'.format(min_entropy))\n",
    "    \n",
    "    return spliter #(特征维度,特征值)"
   ]
  },
  {
   "cell_type": "code",
   "execution_count": 10,
   "metadata": {},
   "outputs": [
    {
     "data": {
      "text/plain": [
       "('pet', 1)"
      ]
     },
     "execution_count": 10,
     "metadata": {},
     "output_type": "execute_result"
    }
   ],
   "source": [
    "find_mini_conditional_entropy_feature(training_data=dataset, dependent_feature='bought')"
   ]
  },
  {
   "cell_type": "markdown",
   "metadata": {},
   "source": [
    "Step3：生成决策树"
   ]
  },
  {
   "cell_type": "markdown",
   "metadata": {},
   "source": [
    "D：因变量；A：自变量，也称之为特征  \n",
    "\n",
    "（1）若D中所有实例属于同一类Ck，则T为单结点树，并将类Ck作为该结点的类标记，返回T；  \n",
    "（2）若A＝Ø，则T为单结点树，并将D中实例数最大的类Ck作为该结点的类标记，返回T；  \n",
    "（3）否则，计算A中各特征的条件熵$H(D|A)$，选择条件熵最小的特征Ag；  \n",
    "（4）对Ag的每一可能值ai，依Ag＝ai将D分割为若干非空子集Di，将Di中实例数最大的类作为标记，构建子结点，由结点及其子结点构成树T，返回T；  \n",
    "（5）对第i个子结点，以Di为训练集，以A-{Ag}为特征集，递归地调用步（1）～步（4），得到子树Ti，返回Ti。 "
   ]
  },
  {
   "cell_type": "code",
   "execution_count": 11,
   "metadata": {},
   "outputs": [],
   "source": [
    "# 基于训练数据生成决策树\n",
    "# 输入训练数据框，因变量名；输出决策树。\n",
    "\n",
    "import pprint\n",
    "\n",
    "def generateDecisionTree(trainData:pd.DataFrame, dependent_feature:str)->dict:\n",
    "    \n",
    "    # 1 若D中实例属于同一类Ck，则T为单节点树，并将类Ck作为结点的类标记，返回T\n",
    "    if len(trainData.loc[:,dependent_feature].value_counts().index) == 1:\n",
    "#         print('因变量值都为同一类，返回叶子节点，决策结果')\n",
    "#         print(trainData.loc[:,dependent_feature].value_counts().index[0])\n",
    "    \n",
    "        # 返回当前数据集中因变量的唯一取值\n",
    "        return trainData.loc[:,dependent_feature].value_counts().index[0]\n",
    "    \n",
    "    # 2 若A为空，则T为单节点树，将D中实例树最大的类Ck作为该节点的类标记，返回T\n",
    "    features = trainData.columns.tolist()\n",
    "    features.remove(dependent_feature)\n",
    "#     print('余下的特征：')\n",
    "#     print(features)\n",
    "    if len(features) == 0:\n",
    "#         print('自变量/特征已经用完，返回叶子节点，决策结果')\n",
    "#         print(trainData.loc[:,dependent_feature].value_counts().sort_values(ascending=False).index[0])\n",
    "    \n",
    "        # 返回当前数据集中因变量概率最大的取值\n",
    "        return trainData.loc[:,dependent_feature].value_counts().sort_values(ascending=False).index[0]\n",
    "\n",
    "    # 3 计算A中各特征的条件熵H(D|A)，选择条件熵最小的特征Ag\n",
    "    optimal_feature_name, optimal_feature_value = find_mini_conditional_entropy_feature(trainData,dependent_feature)\n",
    "#     print('当前条件熵最小的特征及取值:')\n",
    "#     print(optimal_feature_name, optimal_feature_value)\n",
    "    \n",
    "    # 4 构建Ag子树\n",
    "    node_tree = {optimal_feature_name:{}}\n",
    "\n",
    "    feature_values_list = trainData[optimal_feature_name].value_counts().index\n",
    "    for v in feature_values_list:\n",
    "        # 多个v对应生成多个子树，所以不能用'='号赋值的方式来更新树，而要用update()\n",
    "        node_tree[optimal_feature_name].update({v:{}})\n",
    "        \n",
    "        # 构建子DataFrame：保留optimal_feature不同取值对应的行，然后删除optimal_feature列\n",
    "        sub_train_df = trainData.loc[trainData[optimal_feature_name] == v].drop([optimal_feature_name], axis=1)\n",
    "#         print('当前子数据集：')\n",
    "#         print(sub_train_df)\n",
    "\n",
    "        # 5 递归生成树\n",
    "        sub_tree = generateDecisionTree(sub_train_df,dependent_feature)\n",
    "#         print('子树：')\n",
    "#         print(sub_tree)\n",
    "        \n",
    "        node_tree[optimal_feature_name][v]=sub_tree\n",
    "#         print('当前决策树：')\n",
    "#         pprint.pprint(node_tree)\n",
    "\n",
    "    return node_tree"
   ]
  },
  {
   "cell_type": "code",
   "execution_count": 14,
   "metadata": {},
   "outputs": [],
   "source": [
    "decision_tree = generateDecisionTree(dataset, 'bought')"
   ]
  },
  {
   "cell_type": "code",
   "execution_count": 15,
   "metadata": {},
   "outputs": [
    {
     "name": "stdout",
     "output_type": "stream",
     "text": [
      "{'pet': {0: 0,\n",
      "         1: {'income': {'+10': {'gender': {'F': {'family_number': {1: 0, 2: 1}},\n",
      "                                           'M': 0}},\n",
      "                        '-10': 1}}}}\n"
     ]
    }
   ],
   "source": [
    "pprint.pprint(decision_tree)"
   ]
  },
  {
   "cell_type": "markdown",
   "metadata": {},
   "source": [
    "Step4：基于决策树预测未知变量的结果"
   ]
  },
  {
   "cell_type": "markdown",
   "metadata": {},
   "source": [
    "(1)输入的决策树不是字典，则是决策结果(决策树的叶子节点)，返回决策结果  \n",
    "(2)否则，取得当前决策树字典的key，然后取得新实例与这个key对应的value，在以这个value作为决策树字典的第二层key,返回子决策树字典：决策树字典[key][value]  \n",
    "(3)对子决策树字典递归的调用前面几步，返回子决策树字典"
   ]
  },
  {
   "cell_type": "code",
   "execution_count": 16,
   "metadata": {},
   "outputs": [],
   "source": [
    "def DecisionTreePredict(decision_tree, new_case:dict):\n",
    "    # (1)输入的决策树不是字典，则是决策结果(决策树的叶子节点)，返回决策结果\n",
    "    if type(decision_tree)!=dict:\n",
    "#         print('返回决策结果：')\n",
    "#         print(decision_tree)\n",
    "        \n",
    "        return decision_tree\n",
    "    \n",
    "    # (2)否则，取得当前决策树字典的key，然后取得新实例与这个key对应的value，\n",
    "    # 在以这个value作为决策树字典的第二层key,返回子决策树字典\n",
    "    k = list(decision_tree.keys())[0]\n",
    "#     print('当前key：')\n",
    "#     print(k)\n",
    "\n",
    "    value = new_case[k]\n",
    "#     print('新实例的取值：')\n",
    "#     print(value)\n",
    "\n",
    "    sub_tree = decision_tree[k][value]\n",
    "#     print('子树：')\n",
    "#     print(sub_tree)\n",
    "\n",
    "    # (3)对子决策树字典递归的调用前面几步，返回子决策树字典\n",
    "    sub_tree = DecisionTreePredict(sub_tree, new_case)\n",
    "#     print('递归子树：')\n",
    "#     print(sub_tree)\n",
    "            \n",
    "    return sub_tree"
   ]
  },
  {
   "cell_type": "code",
   "execution_count": 17,
   "metadata": {},
   "outputs": [],
   "source": [
    "newCase = {'gender':'M','income':'-10','family_number':1,'pet':1}"
   ]
  },
  {
   "cell_type": "code",
   "execution_count": 18,
   "metadata": {},
   "outputs": [],
   "source": [
    "decisionResult = DecisionTreePredict(decision_tree=decision_tree, new_case=newCase)"
   ]
  },
  {
   "cell_type": "code",
   "execution_count": 19,
   "metadata": {},
   "outputs": [
    {
     "name": "stdout",
     "output_type": "stream",
     "text": [
      "基于训练好的决策树模型，对新实例的预测结果为：1\n"
     ]
    }
   ],
   "source": [
    "print('基于训练好的决策树模型，对新实例的预测结果为：{}'.format(decisionResult))"
   ]
  },
  {
   "cell_type": "code",
   "execution_count": 20,
   "metadata": {},
   "outputs": [],
   "source": [
    "newCase = {'gender':'M','income':'-10','family_number':1,'pet':0}"
   ]
  },
  {
   "cell_type": "code",
   "execution_count": 21,
   "metadata": {},
   "outputs": [],
   "source": [
    "decisionResult = DecisionTreePredict(decision_tree=decision_tree, new_case=newCase)"
   ]
  },
  {
   "cell_type": "code",
   "execution_count": 22,
   "metadata": {},
   "outputs": [
    {
     "name": "stdout",
     "output_type": "stream",
     "text": [
      "基于训练好的决策树模型，对新实例的预测结果为：0\n"
     ]
    }
   ],
   "source": [
    "print('基于训练好的决策树模型，对新实例的预测结果为：{}'.format(decisionResult))"
   ]
  },
  {
   "cell_type": "markdown",
   "metadata": {},
   "source": [
    "2. 将上一节课(第二节课)的线性回归问题中的Loss函数改成\"绝对值\"，并且改变其偏导的求值方式，观察其结果的变化。(19 point)"
   ]
  },
  {
   "cell_type": "markdown",
   "metadata": {},
   "source": [
    "<评阅点>\n",
    "+ 是否将Loss改成了“绝对值”(3')\n",
    "+ 是否完成了偏导的重新定义(5')\n",
    "+ 新的模型Loss是否能够收敛 (11’)"
   ]
  },
  {
   "cell_type": "markdown",
   "metadata": {},
   "source": [
    "这部分讲解在第二节课视频2h42min处"
   ]
  },
  {
   "cell_type": "code",
   "execution_count": 1,
   "metadata": {},
   "outputs": [],
   "source": [
    "from sklearn.datasets import load_boston\n",
    "import random\n",
    "from matplotlib import pyplot as plt"
   ]
  },
  {
   "cell_type": "code",
   "execution_count": 2,
   "metadata": {},
   "outputs": [],
   "source": [
    "dataset = load_boston()"
   ]
  },
  {
   "cell_type": "code",
   "execution_count": 3,
   "metadata": {},
   "outputs": [],
   "source": [
    "x,y=dataset['data'],dataset['target']"
   ]
  },
  {
   "cell_type": "code",
   "execution_count": 4,
   "metadata": {},
   "outputs": [],
   "source": [
    "# x.shape"
   ]
  },
  {
   "cell_type": "code",
   "execution_count": 21,
   "metadata": {},
   "outputs": [],
   "source": [
    "# y.shape"
   ]
  },
  {
   "cell_type": "code",
   "execution_count": 20,
   "metadata": {},
   "outputs": [],
   "source": [
    "# x[1].shape\n",
    "# x[1]"
   ]
  },
  {
   "cell_type": "code",
   "execution_count": 18,
   "metadata": {},
   "outputs": [],
   "source": [
    "# dataset.feature_names"
   ]
  },
  {
   "cell_type": "code",
   "execution_count": 17,
   "metadata": {
    "scrolled": false
   },
   "outputs": [],
   "source": [
    "# dataset['DESCR']"
   ]
  },
  {
   "cell_type": "code",
   "execution_count": 5,
   "metadata": {},
   "outputs": [],
   "source": [
    "# 本例只讨论一元线性回归模型，仅选取第6个特征RM参与建模。\n",
    "# RM：average number of rooms per dwelling\n",
    "X_rm = x[:,5]"
   ]
  },
  {
   "cell_type": "code",
   "execution_count": 6,
   "metadata": {},
   "outputs": [
    {
     "data": {
      "image/png": "[encoded data removed]",
      "text/plain": [
       "<Figure size 432x288 with 1 Axes>"
      ]
     },
     "metadata": {
      "needs_background": "light"
     },
     "output_type": "display_data"
    }
   ],
   "source": [
    "# plot the RM with respect to y\n",
    "plt.scatter(X_rm,y)\n",
    "plt.show()"
   ]
  },
  {
   "cell_type": "markdown",
   "metadata": {},
   "source": [
    "梯度下降 Gradient descent"
   ]
  },
  {
   "cell_type": "markdown",
   "metadata": {},
   "source": [
    "Assume that the target funciton is a linear function  \n",
    "$ y = k*X_{rm} + b$"
   ]
  },
  {
   "cell_type": "code",
   "execution_count": 7,
   "metadata": {},
   "outputs": [],
   "source": [
    "#define target function\n",
    "def price(x, k, b):\n",
    "    return k * x + b"
   ]
  },
  {
   "cell_type": "markdown",
   "metadata": {},
   "source": [
    "定义损失函数 Define mean square loss：观测值与预测值差的绝对值的平均值"
   ]
  },
  {
   "cell_type": "markdown",
   "metadata": {},
   "source": [
    "$ loss = \\frac{1}{n} \\sum{|y_i - \\hat{y_i}|}$"
   ]
  },
  {
   "cell_type": "markdown",
   "metadata": {},
   "source": [
    "$ loss = \\frac{1}{n} \\sum{|y_i - (kx_i + b_i)|} $"
   ]
  },
  {
   "cell_type": "code",
   "execution_count": 8,
   "metadata": {},
   "outputs": [],
   "source": [
    "# define loss function \n",
    "def loss(y,y_hat):\n",
    "    return sum(abs(y_i - y_hat_i) for y_i, y_hat_i in zip(list(y),list(y_hat)))/len(list(y))"
   ]
  },
  {
   "cell_type": "markdown",
   "metadata": {},
   "source": [
    "Define partial derivatives"
   ]
  },
  {
   "cell_type": "markdown",
   "metadata": {},
   "source": [
    "$ \\frac{\\partial{loss}}{\\partial{k}} = -\\frac{1}{n}\\sum(\\frac{y_i - \\hat{y_i}}{|y_i - \\hat{y_i}|})x_i$"
   ]
  },
  {
   "cell_type": "markdown",
   "metadata": {},
   "source": [
    "$ \\frac{\\partial{loss}}{\\partial{b}} = -\\frac{1}{n}\\sum(\\frac{y_i - \\hat{y_i}}{|y_i - \\hat{y_i}|})$"
   ]
  },
  {
   "cell_type": "code",
   "execution_count": 9,
   "metadata": {},
   "outputs": [],
   "source": [
    "# define partial derivative \n",
    "def partial_derivative_k(x, y, y_hat): \n",
    "    n = len(y)\n",
    "    gradient = 0\n",
    "    for x_i, y_i, y_hat_i in zip(list(x),list(y),list(y_hat)):\n",
    "        gradient += (y_i-y_hat_i) / abs(y_i-y_hat_i) * x_i\n",
    "    return -1/n * gradient\n",
    "\n",
    "def partial_derivative_b(y, y_hat):\n",
    "    n = len(y)\n",
    "    gradient = 0\n",
    "    for y_i, y_hat_i in zip(list(y),list(y_hat)):\n",
    "        gradient += (y_i-y_hat_i) / abs(y_i-y_hat_i)\n",
    "    return -1 / n * gradient"
   ]
  },
  {
   "cell_type": "code",
   "execution_count": 10,
   "metadata": {},
   "outputs": [
    {
     "name": "stdout",
     "output_type": "stream",
     "text": [
      "Iteration 0, the loss is 394.62950728820925, parameters k is -54.71601462023295 and b is -28.2265539429402\n",
      "Iteration 1, the loss is 390.57984434994137, parameters k is -54.087551181497766 and b is -28.1265539429402\n",
      "Iteration 2, the loss is 386.53018141167234, parameters k is -53.459087742762584 and b is -28.026553942940197\n",
      "Iteration 3, the loss is 382.48051847340406, parameters k is -52.8306243040274 and b is -27.926553942940195\n",
      "Iteration 4, the loss is 378.43085553513555, parameters k is -52.20216086529222 and b is -27.826553942940194\n",
      "Iteration 5, the loss is 374.38119259686704, parameters k is -51.57369742655704 and b is -27.726553942940193\n",
      "Iteration 6, the loss is 370.3315296585988, parameters k is -50.94523398782186 and b is -27.62655394294019\n",
      "Iteration 7, the loss is 366.2818667203305, parameters k is -50.31677054908668 and b is -27.52655394294019\n",
      "Iteration 8, the loss is 362.23220378206173, parameters k is -49.688307110351495 and b is -27.42655394294019\n",
      "Iteration 9, the loss is 358.18254084379294, parameters k is -49.05984367161631 and b is -27.326553942940187\n",
      "Iteration 10, the loss is 354.1328779055248, parameters k is -48.43138023288113 and b is -27.226553942940185\n",
      "Iteration 11, the loss is 350.0832149672563, parameters k is -47.80291679414595 and b is -27.126553942940184\n",
      "Iteration 12, the loss is 346.033552028988, parameters k is -47.17445335541077 and b is -27.026553942940183\n",
      "Iteration 13, the loss is 341.9838890907198, parameters k is -46.54598991667559 and b is -26.92655394294018\n",
      "Iteration 14, the loss is 337.9342261524506, parameters k is -45.917526477940406 and b is -26.82655394294018\n",
      "Iteration 15, the loss is 333.8845632141829, parameters k is -45.289063039205224 and b is -26.72655394294018\n",
      "Iteration 16, the loss is 329.8349002759137, parameters k is -44.66059960047004 and b is -26.626553942940177\n",
      "Iteration 17, the loss is 325.78523733764564, parameters k is -44.03213616173486 and b is -26.526553942940176\n",
      "Iteration 18, the loss is 321.73557439937696, parameters k is -43.40367272299968 and b is -26.426553942940174\n",
      "Iteration 19, the loss is 317.6859114611088, parameters k is -42.7752092842645 and b is -26.326553942940173\n",
      "Iteration 20, the loss is 313.63624852284, parameters k is -42.14674584552932 and b is -26.22655394294017\n",
      "Iteration 21, the loss is 309.58658558457137, parameters k is -41.518282406794135 and b is -26.12655394294017\n",
      "Iteration 22, the loss is 305.53692264630297, parameters k is -40.889818968058954 and b is -26.02655394294017\n",
      "Iteration 23, the loss is 301.48725970803457, parameters k is -40.26135552932377 and b is -25.926553942940167\n",
      "Iteration 24, the loss is 297.437596769766, parameters k is -39.63289209058859 and b is -25.826553942940166\n",
      "Iteration 25, the loss is 293.387933831498, parameters k is -39.00442865185341 and b is -25.726553942940164\n",
      "Iteration 26, the loss is 289.3382708932294, parameters k is -38.37596521311823 and b is -25.626553942940163\n",
      "Iteration 27, the loss is 285.28860795496075, parameters k is -37.747501774383046 and b is -25.52655394294016\n",
      "Iteration 28, the loss is 281.2389450166921, parameters k is -37.119038335647865 and b is -25.42655394294016\n",
      "Iteration 29, the loss is 277.18928207842396, parameters k is -36.49057489691268 and b is -25.32655394294016\n",
      "Iteration 30, the loss is 273.1396191401551, parameters k is -35.8621114581775 and b is -25.226553942940157\n",
      "Iteration 31, the loss is 269.08995620188676, parameters k is -35.23364801944232 and b is -25.126553942940156\n",
      "Iteration 32, the loss is 265.04029326361854, parameters k is -34.60518458070714 and b is -25.026553942940154\n",
      "Iteration 33, the loss is 260.99063032534997, parameters k is -33.97672114197196 and b is -24.926553942940153\n",
      "Iteration 34, the loss is 256.94096738708157, parameters k is -33.348257703236776 and b is -24.82655394294015\n",
      "Iteration 35, the loss is 252.89130444881303, parameters k is -32.719794264501594 and b is -24.72655394294015\n",
      "Iteration 36, the loss is 248.8416415105448, parameters k is -32.09133082576641 and b is -24.62655394294015\n",
      "Iteration 37, the loss is 244.7919785722763, parameters k is -31.462867387031235 and b is -24.526553942940147\n",
      "Iteration 38, the loss is 240.74231563400784, parameters k is -30.834403948296057 and b is -24.426553942940146\n",
      "Iteration 39, the loss is 236.69265269573918, parameters k is -30.20594050956088 and b is -24.326553942940144\n",
      "Iteration 40, the loss is 232.64298975747081, parameters k is -29.5774770708257 and b is -24.226553942940143\n",
      "Iteration 41, the loss is 228.59332681920233, parameters k is -28.949013632090523 and b is -24.12655394294014\n",
      "Iteration 42, the loss is 224.54366388093382, parameters k is -28.320550193355345 and b is -24.02655394294014\n",
      "Iteration 43, the loss is 220.49400094266545, parameters k is -27.692086754620167 and b is -23.92655394294014\n",
      "Iteration 44, the loss is 216.44433800439688, parameters k is -27.06362331588499 and b is -23.826553942940137\n",
      "Iteration 45, the loss is 212.39467506612874, parameters k is -26.43515987714981 and b is -23.726553942940136\n",
      "Iteration 46, the loss is 208.34501212786017, parameters k is -25.806696438414633 and b is -23.626553942940134\n",
      "Iteration 47, the loss is 204.2953491895916, parameters k is -25.178232999679455 and b is -23.526553942940133\n",
      "Iteration 48, the loss is 200.24568625132298, parameters k is -24.549769560944277 and b is -23.42655394294013\n",
      "Iteration 49, the loss is 196.19602331305492, parameters k is -23.9213061222091 and b is -23.32655394294013\n",
      "Iteration 50, the loss is 192.14636037478607, parameters k is -23.29284268347392 and b is -23.22655394294013\n",
      "Iteration 51, the loss is 188.09669743651781, parameters k is -22.664379244738743 and b is -23.126553942940127\n",
      "Iteration 52, the loss is 184.04703449824947, parameters k is -22.035915806003565 and b is -23.026553942940126\n",
      "Iteration 53, the loss is 179.99737155998096, parameters k is -21.407452367268387 and b is -22.926553942940124\n",
      "Iteration 54, the loss is 175.94770862171234, parameters k is -20.77898892853321 and b is -22.826553942940123\n",
      "Iteration 55, the loss is 171.898045683444, parameters k is -20.15052548979803 and b is -22.72655394294012\n",
      "Iteration 56, the loss is 167.8483827451756, parameters k is -19.522062051062854 and b is -22.62655394294012\n",
      "Iteration 57, the loss is 163.79871980690726, parameters k is -18.893598612327676 and b is -22.52655394294012\n",
      "Iteration 58, the loss is 159.74905686863883, parameters k is -18.265135173592498 and b is -22.426553942940117\n",
      "Iteration 59, the loss is 155.69939393037026, parameters k is -17.63667173485732 and b is -22.326553942940116\n",
      "Iteration 60, the loss is 151.6497309921018, parameters k is -17.00820829612214 and b is -22.226553942940114\n",
      "Iteration 61, the loss is 147.60006805383347, parameters k is -16.379744857386964 and b is -22.126553942940113\n",
      "Iteration 62, the loss is 143.5504051155649, parameters k is -15.751281418651786 and b is -22.02655394294011\n",
      "Iteration 63, the loss is 139.5007421772963, parameters k is -15.122817979916608 and b is -21.92655394294011\n",
      "Iteration 64, the loss is 135.45107923902788, parameters k is -14.49435454118143 and b is -21.82655394294011\n",
      "Iteration 65, the loss is 131.40141630075956, parameters k is -13.865891102446252 and b is -21.726553942940107\n",
      "Iteration 66, the loss is 127.35175336249097, parameters k is -13.237427663711074 and b is -21.626553942940106\n",
      "Iteration 67, the loss is 123.30209042422261, parameters k is -12.608964224975896 and b is -21.526553942940104\n",
      "Iteration 68, the loss is 119.25242748595424, parameters k is -11.980500786240718 and b is -21.426553942940103\n",
      "Iteration 69, the loss is 115.20276454768577, parameters k is -11.35203734750554 and b is -21.3265539429401\n",
      "Iteration 70, the loss is 111.15310160941729, parameters k is -10.723573908770362 and b is -21.2265539429401\n",
      "Iteration 71, the loss is 107.1034386711489, parameters k is -10.095110470035184 and b is -21.1265539429401\n",
      "Iteration 72, the loss is 103.05377573288044, parameters k is -9.466647031300006 and b is -21.026553942940097\n",
      "Iteration 73, the loss is 99.00411279461198, parameters k is -8.838183592564828 and b is -20.926553942940096\n",
      "Iteration 74, the loss is 94.95444985634346, parameters k is -8.20972015382965 and b is -20.826553942940095\n",
      "Iteration 75, the loss is 90.90478691807503, parameters k is -7.581256715094471 and b is -20.726553942940093\n",
      "Iteration 76, the loss is 86.85512397980662, parameters k is -6.952793276359293 and b is -20.62655394294009\n",
      "Iteration 77, the loss is 82.80546104153814, parameters k is -6.324329837624114 and b is -20.52655394294009\n",
      "Iteration 78, the loss is 78.75579810326974, parameters k is -5.695866398888935 and b is -20.42655394294009\n",
      "Iteration 79, the loss is 74.70613516500123, parameters k is -5.067402960153756 and b is -20.326553942940087\n",
      "Iteration 80, the loss is 70.6564722267328, parameters k is -4.438939521418577 and b is -20.226553942940086\n",
      "Iteration 81, the loss is 66.60680928846438, parameters k is -3.8104760826833983 and b is -20.126553942940085\n",
      "Iteration 82, the loss is 62.55714635019592, parameters k is -3.1820126439482195 and b is -20.026553942940083\n",
      "Iteration 83, the loss is 58.50748341192744, parameters k is -2.5535492052130406 and b is -19.92655394294008\n",
      "Iteration 84, the loss is 54.45782047365894, parameters k is -1.9250857664778618 and b is -19.82655394294008\n",
      "Iteration 85, the loss is 50.40815753539051, parameters k is -1.296622327742683 and b is -19.72655394294008\n",
      "Iteration 86, the loss is 46.35849459712207, parameters k is -0.6681588890075042 and b is -19.626553942940077\n",
      "Iteration 87, the loss is 42.30883165885356, parameters k is -0.03969545027232546 and b is -19.526553942940076\n",
      "Iteration 88, the loss is 38.25916872058516, parameters k is 0.5887679884628533 and b is -19.426553942940075\n",
      "Iteration 89, the loss is 34.20950578231672, parameters k is 1.217231427198032 and b is -19.326553942940073\n",
      "Iteration 90, the loss is 30.15984284404828, parameters k is 1.8456948659332109 and b is -19.226553942940072\n",
      "Iteration 91, the loss is 26.110179905779795, parameters k is 2.4741583046683897 and b is -19.12655394294007\n",
      "Iteration 92, the loss is 22.06051696751134, parameters k is 3.1026217434035686 and b is -19.02655394294007\n",
      "Iteration 93, the loss is 18.010854029242903, parameters k is 3.7310851821387474 and b is -18.926553942940068\n",
      "Iteration 94, the loss is 14.014830954398157, parameters k is 4.359548620873926 and b is -18.826553942940066\n",
      "Iteration 95, the loss is 10.40120759231602, parameters k is 4.967904154470764 and b is -18.729715998276035\n",
      "Iteration 96, the loss is 7.7290432914556595, parameters k is 5.5008814271980375 and b is -18.644735761121886\n",
      "Iteration 97, the loss is 5.9976707442930275, parameters k is 5.932755537869975 and b is -18.57635631448157\n",
      "Iteration 98, the loss is 5.01362626399479, parameters k is 6.272686565537959 and b is -18.5233918876041\n",
      "Iteration 99, the loss is 4.758479306142805, parameters k is 6.467505735498433 and b is -18.494538132663386\n",
      "Iteration 100, the loss is 4.747362775826997, parameters k is 6.513808304668394 and b is -18.489795049659435\n",
      "Iteration 101, the loss is 4.747266731120386, parameters k is 6.515803363956931 and b is -18.49216659116141\n",
      "Iteration 102, the loss is 4.747178794731928, parameters k is 6.517798423245469 and b is -18.494538132663386\n",
      "Iteration 103, the loss is 4.747115593987328, parameters k is 6.517270952889738 and b is -18.497304931082358\n",
      "Iteration 104, the loss is 4.747044368320798, parameters k is 6.519266012178275 and b is -18.499676472584333\n",
      "Iteration 105, the loss is 4.746965034336124, parameters k is 6.518738541822544 and b is -18.502443271003305\n",
      "Iteration 106, the loss is 4.746909364427819, parameters k is 6.518211071466813 and b is -18.505210069422276\n",
      "Iteration 107, the loss is 4.746830607924992, parameters k is 6.5202061307553505 and b is -18.50758161092425\n",
      "Iteration 108, the loss is 4.746758227294754, parameters k is 6.519678660399619 and b is -18.510348409343223\n",
      "Iteration 109, the loss is 4.746696181513862, parameters k is 6.521673719688157 and b is -18.5127199508452\n",
      "Iteration 110, the loss is 4.746616847529196, parameters k is 6.521146249332426 and b is -18.51548674926417\n",
      "Iteration 111, the loss is 4.746551997735243, parameters k is 6.5206187789766945 and b is -18.51825354768314\n",
      "Iteration 112, the loss is 4.746482421118057, parameters k is 6.522613838265232 and b is -18.520625089185117\n",
      "Iteration 113, the loss is 4.746403087133385, parameters k is 6.522086367909501 and b is -18.523391887604088\n",
      "Iteration 114, the loss is 4.74634576817573, parameters k is 6.52155889755377 and b is -18.52615868602306\n",
      "Iteration 115, the loss is 4.746268660722258, parameters k is 6.523553956842307 and b is -18.528530227525035\n",
      "Iteration 116, the loss is 4.7461946310426715, parameters k is 6.523026486486576 and b is -18.531297025944006\n",
      "Iteration 117, the loss is 4.746134234311124, parameters k is 6.525021545775114 and b is -18.533668567445982\n",
      "Iteration 118, the loss is 4.746054900326453, parameters k is 6.5244940754193825 and b is -18.536435365864953\n",
      "Iteration 119, the loss is 4.745988401483152, parameters k is 6.523966605063651 and b is -18.539202164283925\n",
      "Iteration 120, the loss is 4.7459204739153265, parameters k is 6.525961664352189 and b is -18.5415737057859\n",
      "Iteration 121, the loss is 4.745841139930648, parameters k is 6.525434193996458 and b is -18.54434050420487\n",
      "Iteration 122, the loss is 4.74578217192364, parameters k is 6.5249067236407265 and b is -18.547107302623843\n",
      "Iteration 123, the loss is 4.745706713519518, parameters k is 6.526901782929264 and b is -18.54947884412582\n",
      "Iteration 124, the loss is 4.745631034790578, parameters k is 6.526374312573533 and b is -18.55224564254479\n",
      "Iteration 125, the loss is 4.745572287108382, parameters k is 6.528369371862071 and b is -18.554617184046766\n",
      "Iteration 126, the loss is 4.745492953123714, parameters k is 6.527841901506339 and b is -18.557383982465737\n",
      "Iteration 127, the loss is 4.745424805231063, parameters k is 6.527314431150608 and b is -18.560150780884708\n",
      "Iteration 128, the loss is 4.745358526712591, parameters k is 6.529309490439146 and b is -18.562522322386684\n",
      "Iteration 129, the loss is 4.745279192727914, parameters k is 6.528782020083415 and b is -18.565289120805655\n",
      "Iteration 130, the loss is 4.745218575671545, parameters k is 6.528254549727683 and b is -18.568055919224626\n",
      "Iteration 131, the loss is 4.745144766316783, parameters k is 6.530249609016221 and b is -18.570427460726602\n"
     ]
    },
    {
     "name": "stdout",
     "output_type": "stream",
     "text": [
      "Iteration 132, the loss is 4.745067438538492, parameters k is 6.52972213866049 and b is -18.573194259145573\n",
      "Iteration 133, the loss is 4.74501033990565, parameters k is 6.531717197949027 and b is -18.57556580064755\n",
      "Iteration 134, the loss is 4.744931005920974, parameters k is 6.531189727593296 and b is -18.57833259906652\n",
      "Iteration 135, the loss is 4.744861208978971, parameters k is 6.530662257237565 and b is -18.58109939748549\n",
      "Iteration 136, the loss is 4.744796579509849, parameters k is 6.532657316526103 and b is -18.583470938987467\n",
      "Iteration 137, the loss is 4.744717245525177, parameters k is 6.532129846170371 and b is -18.58623773740644\n",
      "Iteration 138, the loss is 4.744654979419459, parameters k is 6.53160237581464 and b is -18.58900453582541\n",
      "Iteration 139, the loss is 4.744582819114046, parameters k is 6.533597435103178 and b is -18.591376077327386\n",
      "Iteration 140, the loss is 4.744503842286399, parameters k is 6.533069964747447 and b is -18.594142875746357\n",
      "Iteration 141, the loss is 4.744448392702917, parameters k is 6.535065024035984 and b is -18.596514417248333\n",
      "Iteration 142, the loss is 4.744369058718235, parameters k is 6.534537553680253 and b is -18.599281215667304\n",
      "Iteration 143, the loss is 4.7442976127268786, parameters k is 6.534010083324522 and b is -18.602048014086275\n",
      "Iteration 144, the loss is 4.744234632307108, parameters k is 6.536005142613059 and b is -18.60441955558825\n",
      "Iteration 145, the loss is 4.744155298322441, parameters k is 6.535477672257328 and b is -18.607186354007222\n",
      "Iteration 146, the loss is 4.744091383167369, parameters k is 6.534950201901597 and b is -18.609953152426193\n",
      "Iteration 147, the loss is 4.7440208719113075, parameters k is 6.536945261190135 and b is -18.61232469392817\n",
      "Iteration 148, the loss is 4.743941537926635, parameters k is 6.536417790834403 and b is -18.61509149234714\n",
      "Iteration 149, the loss is 4.7438851536078595, parameters k is 6.535890320478672 and b is -18.61785829076611\n",
      "Iteration 150, the loss is 4.743807111515506, parameters k is 6.53788537976721 and b is -18.620229832268087\n",
      "Iteration 151, the loss is 4.7437340164748, parameters k is 6.537357909411479 and b is -18.62299663068706\n",
      "Iteration 152, the loss is 4.743672685104376, parameters k is 6.539352968700016 and b is -18.625368172189035\n",
      "Iteration 153, the loss is 4.743593351119704, parameters k is 6.538825498344285 and b is -18.628134970608006\n",
      "Iteration 154, the loss is 4.743527786915279, parameters k is 6.538298027988554 and b is -18.630901769026977\n",
      "Iteration 155, the loss is 4.743458924708572, parameters k is 6.5402930872770915 and b is -18.633273310528953\n",
      "Iteration 156, the loss is 4.743379590723899, parameters k is 6.53976561692136 and b is -18.636040108947924\n",
      "Iteration 157, the loss is 4.743321557355769, parameters k is 6.539238146565629 and b is -18.638806907366895\n",
      "Iteration 158, the loss is 4.743245164312768, parameters k is 6.541233205854167 and b is -18.64117844886887\n",
      "Iteration 159, the loss is 4.743170420222712, parameters k is 6.5407057354984355 and b is -18.643945247287842\n",
      "Iteration 160, the loss is 4.743110737901641, parameters k is 6.542700794786973 and b is -18.646316788789818\n",
      "Iteration 161, the loss is 4.743031403916964, parameters k is 6.542173324431242 and b is -18.64908358720879\n",
      "Iteration 162, the loss is 4.742964190663192, parameters k is 6.541645854075511 and b is -18.65185038562776\n",
      "Iteration 163, the loss is 4.7428969775058345, parameters k is 6.543640913364048 and b is -18.654221927129736\n",
      "Iteration 164, the loss is 4.742817643521158, parameters k is 6.543113443008317 and b is -18.656988725548707\n",
      "Iteration 165, the loss is 4.742757961103674, parameters k is 6.542585972652586 and b is -18.65975552396768\n",
      "Iteration 166, the loss is 4.742683217110029, parameters k is 6.5445810319411235 and b is -18.662127065469654\n",
      "Iteration 167, the loss is 4.742606823970614, parameters k is 6.544053561585392 and b is -18.664893863888626\n",
      "Iteration 168, the loss is 4.742548790698899, parameters k is 6.54604862087393 and b is -18.6672654053906\n",
      "Iteration 169, the loss is 4.742469456714227, parameters k is 6.545521150518199 and b is -18.670032203809573\n",
      "Iteration 170, the loss is 4.742400594411105, parameters k is 6.5449936801624675 and b is -18.672799002228544\n",
      "Iteration 171, the loss is 4.742335030303098, parameters k is 6.546988739451005 and b is -18.67517054373052\n",
      "Iteration 172, the loss is 4.7422556963184315, parameters k is 6.546461269095274 and b is -18.67793734214949\n",
      "Iteration 173, the loss is 4.742194364851584, parameters k is 6.545933798739543 and b is -18.680704140568462\n",
      "Iteration 174, the loss is 4.74212126990729, parameters k is 6.54792885802808 and b is -18.683075682070438\n",
      "Iteration 175, the loss is 4.7420432277185265, parameters k is 6.547401387672349 and b is -18.68584248048941\n",
      "Iteration 176, the loss is 4.741986843496167, parameters k is 6.549396446960887 and b is -18.688214021991385\n",
      "Iteration 177, the loss is 4.741907509511489, parameters k is 6.5488689766051555 and b is -18.690980820410356\n",
      "Iteration 178, the loss is 4.7418369981590125, parameters k is 6.548341506249424 and b is -18.693747618829327\n",
      "Iteration 179, the loss is 4.7417730831003615, parameters k is 6.550336565537962 and b is -18.696119160331303\n",
      "Iteration 180, the loss is 4.741693749115685, parameters k is 6.549809095182231 and b is -18.698885958750274\n",
      "Iteration 181, the loss is 4.7416307685994985, parameters k is 6.5492816248265 and b is -18.701652757169246\n",
      "Iteration 182, the loss is 4.741559322704558, parameters k is 6.551276684115037 and b is -18.70402429867122\n",
      "Iteration 183, the loss is 4.741479988719883, parameters k is 6.550749213759306 and b is -18.706791097090193\n",
      "Iteration 184, the loss is 4.741424539039979, parameters k is 6.550221743403575 and b is -18.709557895509164\n",
      "Iteration 185, the loss is 4.741345562308751, parameters k is 6.552216802692112 and b is -18.71192943701114\n",
      "Iteration 186, the loss is 4.7412734019069225, parameters k is 6.551689332336381 and b is -18.71469623543011\n",
      "Iteration 187, the loss is 4.741211135897625, parameters k is 6.553684391624919 and b is -18.717067776932087\n",
      "Iteration 188, the loss is 4.741131801912955, parameters k is 6.553156921269188 and b is -18.719834575351058\n",
      "Iteration 189, the loss is 4.741067172347406, parameters k is 6.552629450913456 and b is -18.72260137377003\n",
      "Iteration 190, the loss is 4.740997375501819, parameters k is 6.554624510201994 and b is -18.724972915272005\n",
      "Iteration 191, the loss is 4.7409180415171495, parameters k is 6.554097039846263 and b is -18.727739713690976\n",
      "Iteration 192, the loss is 4.740860942787894, parameters k is 6.553569569490532 and b is -18.730506512109947\n",
      "Iteration 193, the loss is 4.740783615106016, parameters k is 6.555564628779069 and b is -18.732878053611923\n",
      "Iteration 194, the loss is 4.7407098056548325, parameters k is 6.555037158423338 and b is -18.735644852030894\n",
      "Iteration 195, the loss is 4.740649188694887, parameters k is 6.557032217711876 and b is -18.73801639353287\n",
      "Iteration 196, the loss is 4.74056985471021, parameters k is 6.556504747356144 and b is -18.74078319195184\n",
      "Iteration 197, the loss is 4.740503576095322, parameters k is 6.555977277000413 and b is -18.743549990370813\n",
      "Iteration 198, the loss is 4.740435428299081, parameters k is 6.557972336288951 and b is -18.74592153187279\n",
      "Iteration 199, the loss is 4.74035609431441, parameters k is 6.55744486593322 and b is -18.74868833029176\n"
     ]
    }
   ],
   "source": [
    "#initialized parameters\n",
    "\n",
    "k = random.random() * 200 - 100  # -100 100\n",
    "b = random.random() * 200 - 100  # -100 100\n",
    "\n",
    "# 学习率一般设为10的负三或负四次方。\n",
    "# 这里调成负一次方，是因为发现把损失函数定义成绝对值后，梯度下降非常慢，迭代200次后loss还是很大，所以把学习率调到很大。\n",
    "learning_rate = 1e-1 \n",
    "\n",
    "iteration_num = 200 \n",
    "losses = []\n",
    "for i in range(iteration_num):\n",
    "    \n",
    "    price_use_current_parameters = [price(r, k, b) for r in X_rm]  # \\hat{y}\n",
    "    \n",
    "    current_loss = loss(y, price_use_current_parameters)\n",
    "    losses.append(current_loss)\n",
    "    print(\"Iteration {}, the loss is {}, parameters k is {} and b is {}\".format(i,current_loss,k,b))\n",
    "    \n",
    "    k_gradient = partial_derivative_k(X_rm, y, price_use_current_parameters)\n",
    "    b_gradient = partial_derivative_b(y, price_use_current_parameters)\n",
    "    \n",
    "    k = k + (-1 * k_gradient) * learning_rate #这里k用减法迭代，才能使k取值在最初随机设置的范围内向loss最小的方向移动。\n",
    "    b = b + (-1 * b_gradient) * learning_rate\n",
    "best_k = k\n",
    "best_b = b"
   ]
  },
  {
   "cell_type": "code",
   "execution_count": 11,
   "metadata": {},
   "outputs": [
    {
     "data": {
      "image/png": "[encoded data removed]",
      "text/plain": [
       "<Figure size 432x288 with 1 Axes>"
      ]
     },
     "metadata": {
      "needs_background": "light"
     },
     "output_type": "display_data"
    }
   ],
   "source": [
    "plt.plot(list(range(iteration_num)),losses)\n",
    "plt.show()"
   ]
  },
  {
   "cell_type": "code",
   "execution_count": 12,
   "metadata": {},
   "outputs": [
    {
     "data": {
      "image/png": "[encoded data removed]",
      "text/plain": [
       "<Figure size 432x288 with 1 Axes>"
      ]
     },
     "metadata": {
      "needs_background": "light"
     },
     "output_type": "display_data"
    }
   ],
   "source": [
    "price_use_best_parameters = [price(r, best_k, best_b) for r in X_rm]\n",
    "\n",
    "plt.scatter(X_rm,y)\n",
    "plt.scatter(X_rm,price_use_current_parameters)\n",
    "plt.show()"
   ]
  }
 ],
 "metadata": {
  "kernelspec": {
   "display_name": "Python 3",
   "language": "python",
   "name": "python3"
  },
  "language_info": {
   "codemirror_mode": {
    "name": "ipython",
    "version": 3
   },
   "file_extension": ".py",
   "mimetype": "text/x-python",
   "name": "python",
   "nbconvert_exporter": "python",
   "pygments_lexer": "ipython3",
   "version": "3.8.1"
  }
 },
 "nbformat": 4,
 "nbformat_minor": 2
}
