{
 "cells": [
  {
   "cell_type": "markdown",
   "metadata": {},
   "source": [
    "## Lesson-01 Syntax Tree and Probability Models\n",
    "1.语法可以通过定义最简单的函数来实现  \n",
    "2.我们可以通过递归，来生成更复杂、“无限”长的文字  \n",
    "\n",
    "以下介绍“生成语言”的方法（这部分内容直到Language Model之前）"
   ]
  },
  {
   "cell_type": "code",
   "execution_count": 79,
   "metadata": {},
   "outputs": [],
   "source": [
    "# 语法树，Syntax Tree（树状结构图另见《学习笔记_课堂示例中的语法树SyntaxTree》.pptx）\n",
    "simple_grammar = \"\"\"\n",
    "sentence => noun_phrase verb_phrase\n",
    "noun_phrase => Article Adj* noun\n",
    "Adj* => null | Adj Adj*\n",
    "verb_phrase => verb noun_phrase\n",
    "Article =>  一个 | 这个\n",
    "noun =>   女人 |  篮球 | 桌子 | 小猫\n",
    "verb => 看着   |  坐在 |  听着 | 看见\n",
    "Adj =>  蓝色的 | 好看的 | 小小的\n",
    "\"\"\""
   ]
  },
  {
   "cell_type": "code",
   "execution_count": 80,
   "metadata": {},
   "outputs": [],
   "source": [
    "import random"
   ]
  },
  {
   "cell_type": "code",
   "execution_count": 81,
   "metadata": {},
   "outputs": [],
   "source": [
    "def adj():  return random.choice('蓝色的 | 好看的 | 小小的'.split('|')).split()[0]\n",
    "# def adj():  return random.choice('蓝色的 | 好看的 | 小小的'.split('|')).strip()\n",
    "def adj_star():\n",
    "    return random.choice([lambda : '', lambda : adj() + adj_star()])()"
   ]
  },
  {
   "cell_type": "code",
   "execution_count": 82,
   "metadata": {},
   "outputs": [
    {
     "data": {
      "text/plain": [
       "'好看的蓝色的'"
      ]
     },
     "execution_count": 82,
     "metadata": {},
     "output_type": "execute_result"
    }
   ],
   "source": [
    "adj_star()"
   ]
  },
  {
   "cell_type": "markdown",
   "metadata": {},
   "source": [
    "## But the question is ? \n"
   ]
  },
  {
   "cell_type": "markdown",
   "metadata": {},
   "source": [
    "如果我们更换了语法，会发现所有写过的程序，都要重新写。:( "
   ]
  },
  {
   "cell_type": "markdown",
   "metadata": {},
   "source": [
    "生成语言的逻辑包含在代码中，这就是所谓的“Procedure Driven”，逻辑变了代码就要变。  \n",
    "如何做到输入的数据变了，但代码不用变？（Data Driven）  \n",
    "要把生成语言的逻辑抽象出来，即构建所谓的“规则引擎”。"
   ]
  },
  {
   "cell_type": "markdown",
   "metadata": {},
   "source": [
    "【高老师】我们的目标是，希望能做一个程序，然后，当输入的数据变化的时候，我们的程序不用重写。Generalization."
   ]
  },
  {
   "cell_type": "markdown",
   "metadata": {},
   "source": [
    "【高老师】AI? 如何能自动化解决问题，我们找到一个方法之后，输入变了，我们的这个方法，不用变。"
   ]
  },
  {
   "cell_type": "markdown",
   "metadata": {},
   "source": [
    "step1：定义语法树（Syntax Tree）"
   ]
  },
  {
   "cell_type": "code",
   "execution_count": 83,
   "metadata": {},
   "outputs": [],
   "source": [
    "adj_grammar = \"\"\"\n",
    "Adj* => null | Adj Adj*\n",
    "Adj =>  蓝色的 | 好看的 | 小小的\n",
    "\"\"\""
   ]
  },
  {
   "cell_type": "markdown",
   "metadata": {},
   "source": [
    "step2：解析语法树  \n",
    "将用来描述语法树的字符串/配置文本解析成程序可以直接操作的字典数据结构"
   ]
  },
  {
   "cell_type": "code",
   "execution_count": 84,
   "metadata": {},
   "outputs": [],
   "source": [
    "def create_grammar(grammar_str, split='=>', line_split='\\n'):\n",
    "    grammar = {}\n",
    "    for line in grammar_str.split(line_split):\n",
    "        if not line.strip(): continue\n",
    "        exp, stmt = line.split(split)\n",
    "        grammar[exp.strip()] = [s.split() for s in stmt.split('|')]\n",
    "    return grammar"
   ]
  },
  {
   "cell_type": "code",
   "execution_count": 85,
   "metadata": {},
   "outputs": [],
   "source": [
    "grammar = create_grammar(adj_grammar)"
   ]
  },
  {
   "cell_type": "code",
   "execution_count": 86,
   "metadata": {},
   "outputs": [
    {
     "data": {
      "text/plain": [
       "[['蓝色的'], ['好看的'], ['小小的']]"
      ]
     },
     "execution_count": 86,
     "metadata": {},
     "output_type": "execute_result"
    }
   ],
   "source": [
    "grammar['Adj']"
   ]
  },
  {
   "cell_type": "markdown",
   "metadata": {},
   "source": [
    "step3:生成语言"
   ]
  },
  {
   "cell_type": "code",
   "execution_count": 87,
   "metadata": {},
   "outputs": [],
   "source": [
    "# 解析课程开头的语法树\n",
    "example_grammar = create_grammar(simple_grammar)"
   ]
  },
  {
   "cell_type": "code",
   "execution_count": 88,
   "metadata": {},
   "outputs": [
    {
     "data": {
      "text/plain": [
       "{'sentence': [['noun_phrase', 'verb_phrase']],\n",
       " 'noun_phrase': [['Article', 'Adj*', 'noun']],\n",
       " 'Adj*': [['null'], ['Adj', 'Adj*']],\n",
       " 'verb_phrase': [['verb', 'noun_phrase']],\n",
       " 'Article': [['一个'], ['这个']],\n",
       " 'noun': [['女人'], ['篮球'], ['桌子'], ['小猫']],\n",
       " 'verb': [['看着'], ['坐在'], ['听着'], ['看见']],\n",
       " 'Adj': [['蓝色的'], ['好看的'], ['小小的']]}"
      ]
     },
     "execution_count": 88,
     "metadata": {},
     "output_type": "execute_result"
    }
   ],
   "source": [
    "example_grammar"
   ]
  },
  {
   "cell_type": "code",
   "execution_count": 118,
   "metadata": {},
   "outputs": [],
   "source": [
    "# 基于语法规则生成语言\n",
    "\n",
    "choice = random.choice #为了缩短后面代码长度，提升易读性，生成一个方法(method)变量\n",
    "\n",
    "# 传入语法字典、要生成的目标类型，传出生成结果\n",
    "# 为了读懂下面的代码，递归过程分解另见《学习笔记_递归过程分解》.xmind\n",
    "def generate(gram, target):\n",
    "    if target not in gram: return target # means target is a terminal expression\n",
    "    \n",
    "    expaned = [generate(gram, t) for t in choice(gram[target])]\n",
    "    return ''.join([e if e != '/n' else '\\n' for e in expaned if e != 'null'])\n",
    "#     return ''.join([e for e in expaned if e != 'null'])"
   ]
  },
  {
   "cell_type": "code",
   "execution_count": 119,
   "metadata": {},
   "outputs": [
    {
     "data": {
      "text/plain": [
       "'这个小小的篮球看见一个女人'"
      ]
     },
     "execution_count": 119,
     "metadata": {},
     "output_type": "execute_result"
    }
   ],
   "source": [
    "generate(gram=example_grammar, target='sentence')"
   ]
  },
  {
   "cell_type": "markdown",
   "metadata": {},
   "source": [
    "更多例子："
   ]
  },
  {
   "cell_type": "code",
   "execution_count": 151,
   "metadata": {},
   "outputs": [],
   "source": [
    "#在西部世界里，一个”人类“的语言可以定义为：\n",
    "\n",
    "human = \"\"\"\n",
    "human = 自己 寻找 活动\n",
    "自己 = 我 | 俺 | 我们 \n",
    "寻找 = 找找 | 想找点 \n",
    "活动 = 乐子 | 玩的\n",
    "\"\"\"\n",
    "\n",
    "\n",
    "#一个“接待员”的语言可以定义为\n",
    "\n",
    "host = \"\"\"\n",
    "host = 寒暄 报数 询问 业务相关 结尾 \n",
    "报数 = 我是 数字 号 ,\n",
    "数字 = 单个数字 | 数字 单个数字\n",
    "单个数字 = 1 | 2 | 3 | 4 | 5 | 6 | 7 | 8 | 9 \n",
    "寒暄 = 称谓 打招呼 | 打招呼\n",
    "称谓 = 人称 ,\n",
    "人称 = 先生 | 女士 | 小朋友\n",
    "打招呼 = 你好 | 您好 \n",
    "询问 = 请问你要 | 您需要\n",
    "业务相关 = 玩玩 具体业务\n",
    "玩玩 = null\n",
    "具体业务 = 喝酒 | 打牌 | 打猎 | 赌博\n",
    "结尾 = 吗？\n",
    "\"\"\"\n"
   ]
  },
  {
   "cell_type": "code",
   "execution_count": 140,
   "metadata": {},
   "outputs": [
    {
     "name": "stdout",
     "output_type": "stream",
     "text": [
      "{'host': [['寒暄', '报数', '询问', '业务相关', '结尾']]}\n"
     ]
    }
   ],
   "source": [
    "# line = 'host = 寒暄 报数 询问 业务相关 结尾'\n",
    "# grammar = {}\n",
    "# exp, stmt = line.split('=')\n",
    "# grammar[exp.strip()] = [s.split() for s in stmt.split('|')]\n",
    "# print(grammar)\n",
    "# # for s in stmt.split('|'):\n",
    "# #     print(s.split())"
   ]
  },
  {
   "cell_type": "code",
   "execution_count": 136,
   "metadata": {
    "scrolled": true
   },
   "outputs": [
    {
     "data": {
      "text/plain": [
       "{'host': [['寒暄', '报数', '询问', '业务相关', '结尾']],\n",
       " '报数': [['我是', '数字', '号', ',']],\n",
       " '数字': [['单个数字'], ['数字', '单个数字']],\n",
       " '单个数字': [['1'], ['2'], ['3'], ['4'], ['5'], ['6'], ['7'], ['8'], ['9']],\n",
       " '寒暄': [['称谓', '打招呼'], ['打招呼']],\n",
       " '称谓': [['人称', ',']],\n",
       " '人称': [['先生'], ['女士'], ['小朋友']],\n",
       " '打招呼': [['你好'], ['您好']],\n",
       " '询问': [['请问你要'], ['您需要']],\n",
       " '业务相关': [['玩玩', '具体业务']],\n",
       " '玩玩': [['null']],\n",
       " '具体业务': [['喝酒'], ['打牌'], ['打猎'], ['赌博']],\n",
       " '结尾': [['吗？']]}"
      ]
     },
     "execution_count": 136,
     "metadata": {},
     "output_type": "execute_result"
    }
   ],
   "source": [
    "# create_grammar(host, split='=')"
   ]
  },
  {
   "cell_type": "code",
   "execution_count": 152,
   "metadata": {},
   "outputs": [
    {
     "name": "stdout",
     "output_type": "stream",
     "text": [
      "您好我是2号,您需要打牌吗？\n",
      "您好我是5号,您需要打牌吗？\n",
      "小朋友,你好我是7号,请问你要赌博吗？\n",
      "女士,你好我是14号,请问你要喝酒吗？\n",
      "小朋友,你好我是81号,您需要打牌吗？\n",
      "小朋友,你好我是1号,您需要打牌吗？\n",
      "女士,您好我是8号,请问你要赌博吗？\n",
      "小朋友,您好我是6号,您需要喝酒吗？\n",
      "您好我是7号,请问你要打牌吗？\n",
      "女士,您好我是1号,请问你要喝酒吗？\n",
      "您好我是48号,请问你要打牌吗？\n",
      "小朋友,你好我是3号,请问你要打猎吗？\n",
      "先生,你好我是94号,请问你要打猎吗？\n",
      "小朋友,你好我是94371679号,请问你要赌博吗？\n",
      "小朋友,您好我是4786号,您需要赌博吗？\n",
      "小朋友,你好我是3号,您需要打猎吗？\n",
      "你好我是2号,请问你要赌博吗？\n",
      "小朋友,你好我是8号,您需要赌博吗？\n",
      "小朋友,你好我是9号,请问你要赌博吗？\n",
      "你好我是544号,请问你要打牌吗？\n"
     ]
    }
   ],
   "source": [
    "for i in range(20):\n",
    "    print(generate(gram=create_grammar(host, split='='), target='host'))"
   ]
  },
  {
   "cell_type": "markdown",
   "metadata": {},
   "source": [
    "【高老师】希望能够生成最合理的一句话？ （见Language Model ：1-Gram模型的原理与代码实现）"
   ]
  },
  {
   "cell_type": "markdown",
   "metadata": {},
   "source": [
    "更多Data Driven的例子：自动生成程序代码"
   ]
  },
  {
   "cell_type": "code",
   "execution_count": 41,
   "metadata": {},
   "outputs": [],
   "source": [
    "simpel_programming = '''\n",
    "programming => if_stmt | assign | while_loop\n",
    "while_loop => while ( cond ) { change_line stmt change_line }\n",
    "if_stmt => if ( cond )  { change_line stmt change_line } | if ( cond )  { change_line stmt change_line } else { change_line stmt change_line } \n",
    "change_line => /N\n",
    "cond => var op var\n",
    "op => | == | < | >= | <= \n",
    "stmt => assign | if_stmt\n",
    "assign => var = var\n",
    "var =>  var _ num | words \n",
    "words => words _ word | word \n",
    "word => name | info |  student | lib | database \n",
    "nums => nums num | num\n",
    "num => 1 | 2 | 3 | 4 | 5 | 6 | 7 | 8 | 9 | 0\n",
    "'''"
   ]
  },
  {
   "cell_type": "code",
   "execution_count": 42,
   "metadata": {},
   "outputs": [
    {
     "name": "stdout",
     "output_type": "stream",
     "text": [
      "while(info_lib>=database_info_lib_database_name){/Nif(lib_9_2<=lib_database_4_3_1){/Nif(lib_infostudent){/Nif(info_student_8<info_name_9_7){/Nlib_database=name/N}/N}/N}/N}\n"
     ]
    }
   ],
   "source": [
    "print(generate(gram=create_grammar(simpel_programming, split='=>'), target='programming'))"
   ]
  },
  {
   "cell_type": "code",
   "execution_count": 43,
   "metadata": {},
   "outputs": [],
   "source": [
    "def pretty_print(line):\n",
    "    # utility tool function\n",
    "    lines = line.split('/N')\n",
    "    \n",
    "    code_lines = []\n",
    "    \n",
    "    for i, sen in enumerate(lines):\n",
    "        if i < len(lines) / 2: \n",
    "            #print()\n",
    "            code_lines.append(i * \"  \" + sen)\n",
    "        else:\n",
    "            code_lines.append((len(lines) - i) * \" \" + sen)\n",
    "    \n",
    "    return code_lines"
   ]
  },
  {
   "cell_type": "code",
   "execution_count": 44,
   "metadata": {},
   "outputs": [],
   "source": [
    "generated_programming = []\n",
    "\n",
    "for i in range(20):\n",
    "    generated_programming += pretty_print(generate(gram=create_grammar(simpel_programming, split='=>'), target='programming'))"
   ]
  },
  {
   "cell_type": "code",
   "execution_count": 45,
   "metadata": {
    "scrolled": false
   },
   "outputs": [
    {
     "name": "stdout",
     "output_type": "stream",
     "text": [
      "if(database_0<=database){\n",
      "  if(database<=lib_lib){\n",
      "    student_database=lib_lib\n",
      "      }else{\n",
      "        student_name_student_database_6=database_name_6_9\n",
      "          }\n",
      "            }else{\n",
      "              if(student<=lib_lib){\n",
      "                database_lib_name=database_lib\n",
      "                  }else{\n",
      "         if(info_student>=lib_info_lib_5_3_9_8){\n",
      "        if(name_infoinfo_database_name_0){\n",
      "       name_student_info_lib_student_5_0_9_1=lib\n",
      "      }else{\n",
      "     lib_database_7_6=lib_database\n",
      "    }\n",
      "   }\n",
      "  }\n",
      " }\n",
      "database_info_student=database_database\n",
      "if(student_8_4_1<=info){\n",
      "  student_lib_info_lib=name_2_2_4_7_6_6_3_1_4\n",
      "    }else{\n",
      "      if(name_info_8_5==lib_2_0_5){\n",
      "        if(info_nameinfo_9_2_8){\n",
      "          if(info<student_info_lib_name_lib){\n",
      "     student=name_4_9\n",
      "    }\n",
      "   }\n",
      "  }\n",
      " }\n",
      "if(student_database_student_namelib){\n",
      "  if(name_lib_database_student_4_9>=database_lib){\n",
      "    if(lib<lib_name_8){\n",
      "      database=name\n",
      "        }else{\n",
      "          student_3_8_3_2=name_3_8\n",
      "            }\n",
      "              }\n",
      "                }else{\n",
      "                  if(info_name_name_lib>=database_5){\n",
      "         info_info_lib_student_database=database_student_info\n",
      "        }else{\n",
      "       if(name_name_database<=database){\n",
      "      lib_info_7=info_info\n",
      "     }else{\n",
      "    name_database_info_6_6_9_5_6=database\n",
      "   }\n",
      "  }\n",
      " }\n",
      "if(lib_7_0_6_4_0_7<=name_0_1){\n",
      "  name=info_database\n",
      " }\n",
      "if(info_lib_2==student_student_3){\n",
      "  lib_name_1_0=lib_3_1_4_1\n",
      " }\n",
      "if(student_lib_4_5_3_4_5_7database_database){\n",
      "  if(info_database_student_6<=lib_5){\n",
      "    student_lib=lib\n",
      "      }else{\n",
      "        student_name_5_1_8_0=info\n",
      "          }\n",
      "            }else{\n",
      "      if(database_lib==student){\n",
      "     database_name_6=student_lib_lib_lib_8\n",
      "    }else{\n",
      "   student_name_6_9_9=info\n",
      "  }\n",
      " }\n",
      "while(database_database_infolib_database_database_7_7){\n",
      "  lib=info\n",
      " }\n",
      "lib_info_5_3=info_lib_name_lib_5\n",
      "while(info_student_database_student>=database){\n",
      "  info_8=database\n",
      " }\n",
      "name_name_lib_lib_student_info_2=student_name\n",
      "if(info<=info){\n",
      "  if(name_info_name_student_lib_4>=student_lib_lib_3_0){\n",
      "    if(database_0_7==database_lib_student){\n",
      "      if(name_database<info_lib_database_database){\n",
      "        database_info_info_student_6_5=lib\n",
      "          }else{\n",
      "            if(info<=database){\n",
      "              database_9=database_lib_0_9_0\n",
      "       }\n",
      "      }\n",
      "     }else{\n",
      "    lib_name_info=student_database_lib_database_0_1_0\n",
      "   }\n",
      "  }\n",
      " }\n",
      "name=lib_info_info_6_9\n",
      "student_9=name\n",
      "if(name_4_5_2_0_8<=lib){\n",
      "  database=student_info\n",
      " }\n",
      "lib=name\n",
      "student_name_8_9=student_3_9_8\n",
      "info_lib_5_5_3=lib_lib_student\n",
      "if(info_8>=info_lib_database){\n",
      "  lib_name_8_3=student_lib_database_info_lib\n",
      " }\n",
      "while(lib_9_6info_lib_7){\n",
      "  if(database_9_2_1_0>=lib){\n",
      "    if(student_student_lib_5==student_info){\n",
      "      database_9=lib\n",
      "   }\n",
      "  }\n",
      " }\n"
     ]
    }
   ],
   "source": [
    "for line in generated_programming:\n",
    "    print(line)"
   ]
  },
  {
   "cell_type": "markdown",
   "metadata": {},
   "source": [
    "写在最后  \n",
    "Machine learning 之前的提法是 Based on Statistical Data Driven Way  \n",
    "Eliza Robot MIT人工智能实验室，世界上第一个人工智能产品，就是基于语法树生成语言，课堂作业提供了源代码可供研究。  \n"
   ]
  },
  {
   "cell_type": "markdown",
   "metadata": {},
   "source": [
    "# Language Model ：1-Gram模型的原理与代码实现"
   ]
  },
  {
   "cell_type": "markdown",
   "metadata": {},
   "source": [
    "语言生成出来了，要判断哪些语句是正确的。  \n",
    "早些年的时候，由语言学家来制定语法规则，根据语法规则判断语句是否正确。  \n",
    "但是语言是非常灵活的，实际语境中的语法难以穷尽。  \n",
    "“Every time I fire a linguist，the performance of the speech recognizer gose up.”  \n",
    "研究者转向依赖 Probability Based Language Model  "
   ]
  },
  {
   "cell_type": "markdown",
   "metadata": {},
   "source": [
    "理论基础：  \n",
    "1 条件概率  \n",
    "2 独立概率  "
   ]
  },
  {
   "cell_type": "markdown",
   "metadata": {},
   "source": [
    "单词出现的条件概率的递推过程：  \n",
    "sentence = '其实 就和 随机森林 原理 一样'  \n",
    "Pr(其实&就和&随机森林&原理&一样)  \n",
    "->Pr(其实|就和&随机森林&原理&一样)Pr(就和&随机森林&原理&一样)  \n",
    "语言学家做了一个简化：文本中单词距离越近关系越紧密，那么设：每个单词出现的概率只跟离它最近的单词有关。  \n",
    "当“最近”距离定义为1时：（【高老师】“像Google这样的大公司距离定位到3就够用了。”）  \n",
    "->Pr(其实|就和)Pr(就和&随机森林&原理&一样) #简化  \n",
    "->Pr(其实|就和)Pr(就和|随机森林&原理&一样)Pr(随机森林&原理&一样)  \n",
    "->Pr(其实|就和)Pr(就和|随机森林)Pr(随机森林&原理&一样) #简化  \n",
    "... #经过一系列的简化  \n",
    "->Pr(其实|就和)Pr(就和|随机森林)Pr(随机森林&原理)Pr(原理&一样)Pr(一样)  \n",
    "这其中："
   ]
  },
  {
   "cell_type": "markdown",
   "metadata": {},
   "source": [
    "$$ Pr(其实|就和) = \\frac{N(\"其实就和\")}{N(\"就和\")} $$"
   ]
  },
  {
   "cell_type": "markdown",
   "metadata": {},
   "source": [
    "将上述递推过程推广到一般情况： $$Pr(sentence)=Pr(w_1w_2...w_n)= \\prod_i^{n-1} \\frac {N(w_iw_{i+1})}{N(w_{i+1})}*Pr(w_n)$$"
   ]
  },
  {
   "cell_type": "markdown",
   "metadata": {},
   "source": [
    "我们考虑用代码实现上述逻辑"
   ]
  },
  {
   "cell_type": "markdown",
   "metadata": {},
   "source": [
    "$$ language\\_model(String) = Probability(String) \\in (0, 1) $$"
   ]
  },
  {
   "cell_type": "markdown",
   "metadata": {},
   "source": [
    "$$ Pro(w_1 w_2 w_3 w_4) = Pr(w_1 | w_2 w_3 w_ 4) * P(w2 | w_3 w_4) * Pr(w_3 | w_4) * Pr(w_4)$$ "
   ]
  },
  {
   "cell_type": "markdown",
   "metadata": {},
   "source": [
    "$$ Pro(w_1 w_2 w_3 w_4) \\sim Pr(w_1 | w_2 ) * P(w2 | w_3 ) * Pr(w_3 | w_4) * Pr(w_4)$$ "
   ]
  },
  {
   "cell_type": "markdown",
   "metadata": {},
   "source": [
    "how to get $ Pr(w1 | w2 w3 w4) $ ?"
   ]
  },
  {
   "cell_type": "markdown",
   "metadata": {},
   "source": [
    "Step1:从硬盘文件读取新闻文本"
   ]
  },
  {
   "cell_type": "code",
   "execution_count": 5,
   "metadata": {},
   "outputs": [],
   "source": [
    "filename = r'D:\\人工智能与自然语言处理006期_开课吧\\第二章第1节-人工智能引论之概率模型与语言自动生成模型\\export_sql_1558435\\sqlResult_1558435.csv'"
   ]
  },
  {
   "cell_type": "code",
   "execution_count": 6,
   "metadata": {},
   "outputs": [],
   "source": [
    "import pandas as pd"
   ]
  },
  {
   "cell_type": "code",
   "execution_count": 7,
   "metadata": {},
   "outputs": [],
   "source": [
    "content = pd.read_csv(filename, encoding='gb18030')"
   ]
  },
  {
   "cell_type": "code",
   "execution_count": 8,
   "metadata": {},
   "outputs": [
    {
     "data": {
      "text/html": [
       "<div>\n",
       "<style scoped>\n",
       "    .dataframe tbody tr th:only-of-type {\n",
       "        vertical-align: middle;\n",
       "    }\n",
       "\n",
       "    .dataframe tbody tr th {\n",
       "        vertical-align: top;\n",
       "    }\n",
       "\n",
       "    .dataframe thead th {\n",
       "        text-align: right;\n",
       "    }\n",
       "</style>\n",
       "<table border=\"1\" class=\"dataframe\">\n",
       "  <thead>\n",
       "    <tr style=\"text-align: right;\">\n",
       "      <th></th>\n",
       "      <th>id</th>\n",
       "      <th>author</th>\n",
       "      <th>source</th>\n",
       "      <th>content</th>\n",
       "      <th>feature</th>\n",
       "      <th>title</th>\n",
       "      <th>url</th>\n",
       "    </tr>\n",
       "  </thead>\n",
       "  <tbody>\n",
       "    <tr>\n",
       "      <th>0</th>\n",
       "      <td>89617</td>\n",
       "      <td>NaN</td>\n",
       "      <td>快科技@http://www.kkj.cn/</td>\n",
       "      <td>此外，自本周（6月12日）起，除小米手机6等15款机型外，其余机型已暂停更新发布（含开发版/...</td>\n",
       "      <td>{\"type\":\"科技\",\"site\":\"cnbeta\",\"commentNum\":\"37\"...</td>\n",
       "      <td>小米MIUI 9首批机型曝光：共计15款</td>\n",
       "      <td>http://www.cnbeta.com/articles/tech/623597.htm</td>\n",
       "    </tr>\n",
       "    <tr>\n",
       "      <th>1</th>\n",
       "      <td>89616</td>\n",
       "      <td>NaN</td>\n",
       "      <td>快科技@http://www.kkj.cn/</td>\n",
       "      <td>骁龙835作为唯一通过Windows 10桌面平台认证的ARM处理器，高通强调，不会因为只考...</td>\n",
       "      <td>{\"type\":\"科技\",\"site\":\"cnbeta\",\"commentNum\":\"15\"...</td>\n",
       "      <td>骁龙835在Windows 10上的性能表现有望改善</td>\n",
       "      <td>http://www.cnbeta.com/articles/tech/623599.htm</td>\n",
       "    </tr>\n",
       "    <tr>\n",
       "      <th>2</th>\n",
       "      <td>89615</td>\n",
       "      <td>NaN</td>\n",
       "      <td>快科技@http://www.kkj.cn/</td>\n",
       "      <td>此前的一加3T搭载的是3400mAh电池，DashCharge快充规格为5V/4A。\\r\\n...</td>\n",
       "      <td>{\"type\":\"科技\",\"site\":\"cnbeta\",\"commentNum\":\"18\"...</td>\n",
       "      <td>一加手机5细节曝光：3300mAh、充半小时用1天</td>\n",
       "      <td>http://www.cnbeta.com/articles/tech/623601.htm</td>\n",
       "    </tr>\n",
       "    <tr>\n",
       "      <th>3</th>\n",
       "      <td>89614</td>\n",
       "      <td>NaN</td>\n",
       "      <td>新华社</td>\n",
       "      <td>这是6月18日在葡萄牙中部大佩德罗冈地区拍摄的被森林大火烧毁的汽车。新华社记者张立云摄\\r\\n</td>\n",
       "      <td>{\"type\":\"国际新闻\",\"site\":\"环球\",\"commentNum\":\"0\",\"j...</td>\n",
       "      <td>葡森林火灾造成至少62人死亡 政府宣布进入紧急状态（组图）</td>\n",
       "      <td>http://world.huanqiu.com/hot/2017-06/10866126....</td>\n",
       "    </tr>\n",
       "    <tr>\n",
       "      <th>4</th>\n",
       "      <td>89613</td>\n",
       "      <td>胡淑丽_MN7479</td>\n",
       "      <td>深圳大件事</td>\n",
       "      <td>（原标题：44岁女子跑深圳约会网友被拒，暴雨中裸身奔走……）\\r\\n@深圳交警微博称：昨日清...</td>\n",
       "      <td>{\"type\":\"新闻\",\"site\":\"网易热门\",\"commentNum\":\"978\",...</td>\n",
       "      <td>44岁女子约网友被拒暴雨中裸奔 交警为其披衣相随</td>\n",
       "      <td>http://news.163.com/17/0618/00/CN617P3Q0001875...</td>\n",
       "    </tr>\n",
       "  </tbody>\n",
       "</table>\n",
       "</div>"
      ],
      "text/plain": [
       "      id      author                  source  \\\n",
       "0  89617         NaN  快科技@http://www.kkj.cn/   \n",
       "1  89616         NaN  快科技@http://www.kkj.cn/   \n",
       "2  89615         NaN  快科技@http://www.kkj.cn/   \n",
       "3  89614         NaN                     新华社   \n",
       "4  89613  胡淑丽_MN7479                   深圳大件事   \n",
       "\n",
       "                                             content  \\\n",
       "0  此外，自本周（6月12日）起，除小米手机6等15款机型外，其余机型已暂停更新发布（含开发版/...   \n",
       "1  骁龙835作为唯一通过Windows 10桌面平台认证的ARM处理器，高通强调，不会因为只考...   \n",
       "2  此前的一加3T搭载的是3400mAh电池，DashCharge快充规格为5V/4A。\\r\\n...   \n",
       "3    这是6月18日在葡萄牙中部大佩德罗冈地区拍摄的被森林大火烧毁的汽车。新华社记者张立云摄\\r\\n   \n",
       "4  （原标题：44岁女子跑深圳约会网友被拒，暴雨中裸身奔走……）\\r\\n@深圳交警微博称：昨日清...   \n",
       "\n",
       "                                             feature  \\\n",
       "0  {\"type\":\"科技\",\"site\":\"cnbeta\",\"commentNum\":\"37\"...   \n",
       "1  {\"type\":\"科技\",\"site\":\"cnbeta\",\"commentNum\":\"15\"...   \n",
       "2  {\"type\":\"科技\",\"site\":\"cnbeta\",\"commentNum\":\"18\"...   \n",
       "3  {\"type\":\"国际新闻\",\"site\":\"环球\",\"commentNum\":\"0\",\"j...   \n",
       "4  {\"type\":\"新闻\",\"site\":\"网易热门\",\"commentNum\":\"978\",...   \n",
       "\n",
       "                           title  \\\n",
       "0           小米MIUI 9首批机型曝光：共计15款   \n",
       "1     骁龙835在Windows 10上的性能表现有望改善   \n",
       "2      一加手机5细节曝光：3300mAh、充半小时用1天   \n",
       "3  葡森林火灾造成至少62人死亡 政府宣布进入紧急状态（组图）   \n",
       "4       44岁女子约网友被拒暴雨中裸奔 交警为其披衣相随   \n",
       "\n",
       "                                                 url  \n",
       "0     http://www.cnbeta.com/articles/tech/623597.htm  \n",
       "1     http://www.cnbeta.com/articles/tech/623599.htm  \n",
       "2     http://www.cnbeta.com/articles/tech/623601.htm  \n",
       "3  http://world.huanqiu.com/hot/2017-06/10866126....  \n",
       "4  http://news.163.com/17/0618/00/CN617P3Q0001875...  "
      ]
     },
     "execution_count": 8,
     "metadata": {},
     "output_type": "execute_result"
    }
   ],
   "source": [
    "content.head()"
   ]
  },
  {
   "cell_type": "code",
   "execution_count": 9,
   "metadata": {},
   "outputs": [],
   "source": [
    "articles = content['content'].tolist() #仅保留新闻正文，并转化为列表"
   ]
  },
  {
   "cell_type": "code",
   "execution_count": 10,
   "metadata": {},
   "outputs": [
    {
     "data": {
      "text/plain": [
       "89611"
      ]
     },
     "execution_count": 10,
     "metadata": {},
     "output_type": "execute_result"
    }
   ],
   "source": [
    "len(articles)"
   ]
  },
  {
   "cell_type": "markdown",
   "metadata": {},
   "source": [
    "Step2：数据清洗"
   ]
  },
  {
   "cell_type": "code",
   "execution_count": 16,
   "metadata": {},
   "outputs": [],
   "source": [
    "import re,jieba"
   ]
  },
  {
   "cell_type": "code",
   "execution_count": 18,
   "metadata": {},
   "outputs": [],
   "source": [
    "from collections import Counter"
   ]
  },
  {
   "cell_type": "code",
   "execution_count": 19,
   "metadata": {},
   "outputs": [
    {
     "name": "stderr",
     "output_type": "stream",
     "text": [
      "Building prefix dict from the default dictionary ...\n",
      "Dumping model to file cache C:\\Users\\SAMISG~1\\AppData\\Local\\Temp\\jieba.cache\n",
      "Loading model cost 0.858 seconds.\n",
      "Prefix dict has been built successfully.\n"
     ]
    }
   ],
   "source": [
    "with_jieba_cut = Counter(jieba.cut(articles[110]))"
   ]
  },
  {
   "cell_type": "code",
   "execution_count": 20,
   "metadata": {
    "scrolled": false
   },
   "outputs": [
    {
     "data": {
      "text/plain": [
       "[('，', 88),\n",
       " ('的', 73),\n",
       " ('。', 39),\n",
       " ('\\r\\n', 27),\n",
       " ('了', 20),\n",
       " ('们', 18),\n",
       " ('工作队', 16),\n",
       " ('村民', 15),\n",
       " ('收割', 14),\n",
       " ('、', 12)]"
      ]
     },
     "execution_count": 20,
     "metadata": {},
     "output_type": "execute_result"
    }
   ],
   "source": [
    "with_jieba_cut.most_common()[:10] #原文本中含有大量无意义字符，需要清洗"
   ]
  },
  {
   "cell_type": "code",
   "execution_count": 17,
   "metadata": {},
   "outputs": [],
   "source": [
    "def token(string):\n",
    "    # we will learn the regular expression next course.\n",
    "    return re.findall('\\w+', string)"
   ]
  },
  {
   "cell_type": "code",
   "execution_count": 21,
   "metadata": {},
   "outputs": [
    {
     "data": {
      "text/plain": [
       "'在外国名著麦田里的守望者中作者想要守护麦田里如自己内心一般纯真的孩子们而驻村干部们也在这个炎热的夏天里撸袖子上阵真正做起了村民们的麦田守望者三夏时节不等人你看到了吗不停翻涌起伏仿若铺陈至天边的金黄麦浪中那若隐若现的人影是自治区新闻出版广电局驻和田市肖尔巴格乡合尼村工作队的队员与工作队组织的青年志愿者在这个炎热的夏季他们深入田间地头帮助村民们收割小麦扛起收麦机麦田中的每个人都显得兴致勃勃一天下来就近22亩小麦收割完毕志愿者麦麦提亚森擦去满脸的汗水高兴地告诉驻村队员我们青年志愿者应该多做贡献为村里的脱贫致富出把力工作队带着我们为村里的老人服务看到那些像我爷爷奶奶一样的老人赞许感谢的目光我体会到了帮助他人的快乐自治区新闻出版广电局驻村工作队孙敏艾力依布拉音麦收时节我们在一起6月中旬的和田墨玉麦田金黄静待收割6月14日15日两天自治区高级人民法院驻和田地区墨玉县吐外特乡罕勒克艾日克村工作队与48名村民志愿者一道帮助村里29户有需要的村民进行小麦收割工作田间地头罕勒克艾日克村志愿队的红旗迎风飘扬格外醒目10余台割麦机一起轰鸣男人们在用机器收割小麦的同时几名妇女也加入到志愿队构成了一道美丽的麦收风景休息空闲工作队员和村民们坐在树荫下田埂上互相问好聊天语言交流有困难就用手势动作比划着聊天有趣地交流方式不时引来阵阵欢笑大家在一同享受丰收和喜悦也一同增进着彼此的情感和友谊自治区高级人民法院驻村工作队周春梅艾地艾木阿不拉细看稻菽千重浪6月15日自治区煤田灭火工程局的干部职工们再一次跋涉1000多公里来到了叶城县萨依巴格乡阿亚格欧尔达贝格村见到了自己的亲戚现场处处都透出掩盖不住的喜悦一声声亲切的谢谢一个个结实的拥抱都透露出浓浓的亲情没坐一会儿在嘘寒问暖中大家了解到在麦收的关键时刻部分村民家中却存在收割难的问题小麦成熟期短收获的时间集中天气的变化对小麦最终产量的影响极大如果不能及时收割会有不小损失的于是大家几乎立刻就决定要帮助亲戚们收割麦子在茂密的麦地里干部们每人手持一把镰刀一字排开挽起衣袖卷起裤腿挥舞着镰刀进行着无声的竞赛骄阳似火汗如雨下但这都挡不住大家的热情随着此起彼伏的镰刀割倒麦子的刷刷声响不一会一束束沉甸甸的麦穗就被整齐地堆放了起来当看到自己亲手收割的金黄色麦穗被一簇簇地打成捆运送到晒场每个人的脸上都露出了灿烂的笑容自治区煤田灭火工程局驻村工作队马浩南这是一个收获多多的季节6月13日清晨6时许和田地区民丰县若雅乡特开墩村的麦田里已经传来马达轰鸣声原来是自治区质监局驻村工作队趁着天气尚且凉爽开始了麦田的收割工作忙碌间隙志愿者队伍搬来清凉的水村民们拎来鲜甜的西瓜抹一把汗水吃一牙西瓜甜蜜的汁水似乎流进了每一个人的心里说起割麦子对于生活在这片土地上的村民来说是再平常不过的事但是对于工作队队员们来说却是陌生的自治区质监局驻民丰县若克雅乡博斯坦村工作队队员们一开始觉得十几个人一起收割二亩地应该会挺快的结果却一点不简单镰刀拿到自己手里割起来考验才真正的开始大家弓着腰弯着腿亦步亦趋手上挥舞着镰刀时刻注意不要让镰刀割到自己脚下还要留心不要把套种的玉米苗踩伤不一会儿就已经汗流浃背了抬头看看身边的村民早就远远地割到前面去了只有今年已经56岁的工作队队长李树刚有割麦经验多少给队员们挽回了些面子赶不上村民们割麦子的速度更不要说搞定收割机这台大家伙了现代化的机械收割能成倍提升小麦的收割速度李树刚说不过能有这样的体验拉近和村民的距离也是很难得的体验自治区质监局驻村工作队王辉马君刚我们是麦田的守护者为了应对麦收新疆银监局驻和田县塔瓦库勒乡也先巴扎村工作队一早就从经济支援和人力支援两方面做好了准备一方面工作队帮村里购入了5台小麦收割机另一边还组织村干部青年团员等组成了6支近百人的收割先锋突击队帮助村民们抢收麦子看着及时归仓的麦子村民们喜得合不拢嘴纷纷摘下自家杏树上的杏子送给工作队金黄的麦穗温暖了村民们的心香甜的杏子温暖了工作队员的心麦子加杏子拉近了村民和队员们的心新疆银监局驻村工作队王继发免责声明本文仅代表作者个人观点与环球网无关其原创性以及文中陈述文字和内容未经本站证实对本文以及其中全部或者部分内容文字的真实性完整性及时性本站不作任何保证或承诺请读者仅作参考并请自行核实相关内容'"
      ]
     },
     "execution_count": 21,
     "metadata": {},
     "output_type": "execute_result"
    }
   ],
   "source": [
    "''.join(token(articles[110]))"
   ]
  },
  {
   "cell_type": "code",
   "execution_count": 22,
   "metadata": {},
   "outputs": [
    {
     "name": "stdout",
     "output_type": "stream",
     "text": [
      "Wall time: 1.71 s\n"
     ]
    }
   ],
   "source": [
    "%time articles_clean = [''.join(token(str(a)))for a in articles]"
   ]
  },
  {
   "cell_type": "code",
   "execution_count": 23,
   "metadata": {},
   "outputs": [
    {
     "data": {
      "text/plain": [
       "89611"
      ]
     },
     "execution_count": 23,
     "metadata": {},
     "output_type": "execute_result"
    }
   ],
   "source": [
    "len(articles_clean)"
   ]
  },
  {
   "cell_type": "markdown",
   "metadata": {},
   "source": [
    "## 【高老师】\n",
    "AI的问题里边，65%的时间都是在做数据预处理。  \n",
    "为了避免数据处理流程重复消耗时间，及时保存重要的过程数据到硬盘。"
   ]
  },
  {
   "cell_type": "markdown",
   "metadata": {},
   "source": [
    "Step3：切词"
   ]
  },
  {
   "cell_type": "code",
   "execution_count": 24,
   "metadata": {},
   "outputs": [],
   "source": [
    "wfilePath = r'D:\\人工智能与自然语言处理006期_开课吧\\第二章第1节-人工智能引论之概率模型与语言自动生成模型\\export_sql_1558435\\articles_clean.txt'\n",
    "\n",
    "with open(wfilePath, 'w') as wfile:\n",
    "    for a in articles_clean:\n",
    "        wfile.write(a + '\\n')"
   ]
  },
  {
   "cell_type": "code",
   "execution_count": 28,
   "metadata": {},
   "outputs": [],
   "source": [
    "# 对一行文本做切词\n",
    "def cut(string): return list(jieba.cut(string.strip('\\n')))"
   ]
  },
  {
   "cell_type": "code",
   "execution_count": 30,
   "metadata": {},
   "outputs": [
    {
     "name": "stdout",
     "output_type": "stream",
     "text": [
      "Wall time: 2min 34s\n",
      "Done\n"
     ]
    }
   ],
   "source": [
    "# 高老师上课时为了节省程序运行时间，只从文档集中抽样了10000行做切词\n",
    "# TOKEN = []\n",
    "# for i, line in enumerate((open(wfilePath))):\n",
    "#     if i % 100 == 0: print(i)\n",
    "#     # replace 10000 with a big number when you do your homework. \n",
    "#     if i > 10000: break    \n",
    "#     TOKEN += cut(line)\n",
    "\n",
    "\n",
    "# 我现在做代码复现的作业，为了保证效果，对全量文本逐行做切词\n",
    "def cutAllLines(filePath):\n",
    "    token = []\n",
    "    with open(filePath,'r') as file:\n",
    "        for line in file:\n",
    "            token+=cut(line)\n",
    "    return token\n",
    "%time TOKEN = cutAllLines(filePath=wfilePath)\n",
    "print('Done')"
   ]
  },
  {
   "cell_type": "markdown",
   "metadata": {},
   "source": [
    "Step4：统计词频并计算词的2-Gram概率"
   ]
  },
  {
   "cell_type": "code",
   "execution_count": 32,
   "metadata": {},
   "outputs": [],
   "source": [
    "from collections import Counter"
   ]
  },
  {
   "cell_type": "code",
   "execution_count": 34,
   "metadata": {},
   "outputs": [
    {
     "name": "stdout",
     "output_type": "stream",
     "text": [
      "Wall time: 2.19 s\n"
     ]
    }
   ],
   "source": [
    "# 统计每个词的词频，生成统计结果列表[(词, 词频)]\n",
    "%time words_count = Counter(TOKEN)"
   ]
  },
  {
   "cell_type": "code",
   "execution_count": 51,
   "metadata": {},
   "outputs": [
    {
     "data": {
      "text/plain": [
       "[('的', 703716),\n",
       " ('n', 382020),\n",
       " ('在', 263597),\n",
       " ('月', 189330),\n",
       " ('日', 166300),\n",
       " ('新华社', 142462),\n",
       " ('和', 134061),\n",
       " ('年', 123106),\n",
       " ('了', 121938),\n",
       " ('是', 100909),\n",
       " ('\\n', 89611),\n",
       " ('１', 88187),\n",
       " ('０', 84945),\n",
       " ('外代', 83268),\n",
       " ('中', 73926),\n",
       " ('中国', 71179),\n",
       " ('２', 70521),\n",
       " ('2017', 69894),\n",
       " ('记者', 62147),\n",
       " ('二线', 61998)]"
      ]
     },
     "execution_count": 51,
     "metadata": {},
     "output_type": "execute_result"
    }
   ],
   "source": [
    "words_count.most_common(20)"
   ]
  },
  {
   "cell_type": "markdown",
   "metadata": {},
   "source": [
    "【统计前100词频的分布规律】"
   ]
  },
  {
   "cell_type": "code",
   "execution_count": 36,
   "metadata": {},
   "outputs": [],
   "source": [
    "frequiences = [f for w, f in words_count.most_common(100)] #将词频Top100存成一个列表"
   ]
  },
  {
   "cell_type": "code",
   "execution_count": 37,
   "metadata": {},
   "outputs": [],
   "source": [
    "x = [i for i in range(100)]"
   ]
  },
  {
   "cell_type": "code",
   "execution_count": 38,
   "metadata": {},
   "outputs": [],
   "source": [
    "%matplotlib inline"
   ]
  },
  {
   "cell_type": "code",
   "execution_count": 39,
   "metadata": {},
   "outputs": [],
   "source": [
    "import matplotlib.pyplot as plt"
   ]
  },
  {
   "cell_type": "code",
   "execution_count": 40,
   "metadata": {
    "scrolled": true
   },
   "outputs": [
    {
     "data": {
      "text/plain": [
       "[<matplotlib.lines.Line2D at 0x20c3527c4f0>]"
      ]
     },
     "execution_count": 40,
     "metadata": {},
     "output_type": "execute_result"
    },
    {
     "data": {
      "image/png": "[encoded data removed]",
      "text/plain": [
       "<Figure size 432x288 with 1 Axes>"
      ]
     },
     "metadata": {
      "needs_background": "light"
     },
     "output_type": "display_data"
    }
   ],
   "source": [
    "plt.plot(x, frequiences)"
   ]
  },
  {
   "cell_type": "markdown",
   "metadata": {},
   "source": [
    "## 【高老师】 \n",
    "NLP的重要规律：在一个很大的text corpus中，出现频率第二多的单词，是出现频率第一多单词的频率的1/2，出现频率第n多的单词，是出现频率第一多单词的频率的1/n。"
   ]
  },
  {
   "cell_type": "code",
   "execution_count": 42,
   "metadata": {},
   "outputs": [
    {
     "data": {
      "text/plain": [
       "[<matplotlib.lines.Line2D at 0x20c37ab0880>]"
      ]
     },
     "execution_count": 42,
     "metadata": {},
     "output_type": "execute_result"
    },
    {
     "data": {
      "image/png": "[encoded data removed]",
      "text/plain": [
       "<Figure size 432x288 with 1 Axes>"
      ]
     },
     "metadata": {
      "needs_background": "light"
     },
     "output_type": "display_data"
    }
   ],
   "source": [
    "plt.plot(x, np.log(frequiences))"
   ]
  },
  {
   "cell_type": "markdown",
   "metadata": {},
   "source": [
    "回到正题..."
   ]
  },
  {
   "cell_type": "code",
   "execution_count": 113,
   "metadata": {},
   "outputs": [],
   "source": [
    "# 计算一个词的独立出现概率\n",
    "def prob_1(word):\n",
    "    return words_count[word] / len(TOKEN)"
   ]
  },
  {
   "cell_type": "code",
   "execution_count": 114,
   "metadata": {},
   "outputs": [
    {
     "data": {
      "text/plain": [
       "0.0011341645999654677"
      ]
     },
     "execution_count": 114,
     "metadata": {},
     "output_type": "execute_result"
    }
   ],
   "source": [
    "prob_1('我们')"
   ]
  },
  {
   "cell_type": "code",
   "execution_count": 115,
   "metadata": {},
   "outputs": [
    {
     "data": {
      "text/plain": [
       "['此外', '自', '本周', '6', '月', '12', '日起', '除', '小米', '手机']"
      ]
     },
     "execution_count": 115,
     "metadata": {},
     "output_type": "execute_result"
    }
   ],
   "source": [
    "TOKEN[:10]"
   ]
  },
  {
   "cell_type": "code",
   "execution_count": 47,
   "metadata": {},
   "outputs": [],
   "source": [
    "TOKEN = [str(t) for t in TOKEN] #将TOKEN中的全部词转为字符串类型"
   ]
  },
  {
   "cell_type": "code",
   "execution_count": 48,
   "metadata": {},
   "outputs": [],
   "source": [
    "# 将TOKEN中相邻词逐一组合到一起\n",
    "TOKEN_2_GRAM = [''.join(TOKEN[i:i+2]) for i in range(len(TOKEN[:-2]))]"
   ]
  },
  {
   "cell_type": "code",
   "execution_count": 49,
   "metadata": {},
   "outputs": [
    {
     "data": {
      "text/plain": [
       "['此外自', '自本周', '本周6', '6月', '月12', '12日起', '日起除', '除小米', '小米手机', '手机6']"
      ]
     },
     "execution_count": 49,
     "metadata": {},
     "output_type": "execute_result"
    }
   ],
   "source": [
    "TOKEN_2_GRAM[:10]"
   ]
  },
  {
   "cell_type": "code",
   "execution_count": 55,
   "metadata": {},
   "outputs": [],
   "source": [
    "# 统计每个相邻词组的词频，生成统计结果列表[(词组, 词频)]\n",
    "words_count_2 = Counter(TOKEN_2_GRAM)"
   ]
  },
  {
   "cell_type": "code",
   "execution_count": 105,
   "metadata": {},
   "outputs": [],
   "source": [
    "# 计算：相邻词组的出现频次 除以 相邻词组中后一个词出现频率\n",
    "def prob_2(word1, word2):\n",
    "    if word1 + word2 in words_count_2: return words_count_2[word1+word2] / words_count[word2]\n",
    "    # out of vocabulary problem，如果单词没有出现在词库中，设其概率为1/词汇量\n",
    "    else: \n",
    "        return 1 / len(words_count)"
   ]
  },
  {
   "cell_type": "code",
   "execution_count": 106,
   "metadata": {},
   "outputs": [
    {
     "data": {
      "text/plain": [
       "0.0020409943967495837"
      ]
     },
     "execution_count": 106,
     "metadata": {},
     "output_type": "execute_result"
    }
   ],
   "source": [
    "prob_2('我们', '在')"
   ]
  },
  {
   "cell_type": "markdown",
   "metadata": {},
   "source": [
    "$$Pr(sentence)=Pr(w_1w_2...w_n)= \\prod_i^{n-1} \\frac {N(w_iw_{i+1})}{N(w_{i+1})}*Pr(w_n)$$"
   ]
  },
  {
   "cell_type": "markdown",
   "metadata": {},
   "source": [
    "对以下代码的讲解在课程视频3h25min处"
   ]
  },
  {
   "cell_type": "markdown",
   "metadata": {},
   "source": [
    "Step5：计算一句话的出现概率（实现2-Gram）"
   ]
  },
  {
   "cell_type": "code",
   "execution_count": 107,
   "metadata": {},
   "outputs": [],
   "source": [
    "# 实现上述1-Gram计算公式\n",
    "def get_probablity(sentence):\n",
    "    words = cut(sentence) #对一句话做切词\n",
    "    \n",
    "    sentence_pro = 1 # 初始化这句话的出现概率\n",
    "    for i, word in enumerate(words[:-1]):\n",
    "        next_ = words[i+1]\n",
    "        probability = prob_2(word, next_)\n",
    "        sentence_pro *= probability\n",
    "    \n",
    "    sentence_pro *= prob_1(words[-1]) #乘以公式最后一项：最后一个词的出现概率\n",
    "    return sentence_pro"
   ]
  },
  {
   "cell_type": "code",
   "execution_count": 108,
   "metadata": {},
   "outputs": [
    {
     "data": {
      "text/plain": [
       "1.6649733536503897e-33"
      ]
     },
     "execution_count": 108,
     "metadata": {},
     "output_type": "execute_result"
    }
   ],
   "source": [
    "get_probablity('小明今天抽奖抽到一台苹果手机')"
   ]
  },
  {
   "cell_type": "code",
   "execution_count": 109,
   "metadata": {},
   "outputs": [
    {
     "data": {
      "text/plain": [
       "8.677936260560327e-30"
      ]
     },
     "execution_count": 109,
     "metadata": {},
     "output_type": "execute_result"
    }
   ],
   "source": [
    "get_probablity('小明今天抽奖抽到一架波音飞机')"
   ]
  },
  {
   "cell_type": "code",
   "execution_count": 110,
   "metadata": {},
   "outputs": [
    {
     "data": {
      "text/plain": [
       "7.580540796399728e-19"
      ]
     },
     "execution_count": 110,
     "metadata": {},
     "output_type": "execute_result"
    }
   ],
   "source": [
    "get_probablity('洋葱奶昔来一杯')"
   ]
  },
  {
   "cell_type": "code",
   "execution_count": 111,
   "metadata": {
    "scrolled": true
   },
   "outputs": [
    {
     "data": {
      "text/plain": [
       "7.125708348615745e-17"
      ]
     },
     "execution_count": 111,
     "metadata": {},
     "output_type": "execute_result"
    }
   ],
   "source": [
    "get_probablity('养乐多绿来一杯')"
   ]
  },
  {
   "cell_type": "markdown",
   "metadata": {},
   "source": [
    "Step6：比较自动生成的语句的“是正常语句”的概率"
   ]
  },
  {
   "cell_type": "code",
   "execution_count": 89,
   "metadata": {},
   "outputs": [
    {
     "data": {
      "text/plain": [
       "{'sentence': [['noun_phrase', 'verb_phrase']],\n",
       " 'noun_phrase': [['Article', 'Adj*', 'noun']],\n",
       " 'Adj*': [['null'], ['Adj', 'Adj*']],\n",
       " 'verb_phrase': [['verb', 'noun_phrase']],\n",
       " 'Article': [['一个'], ['这个']],\n",
       " 'noun': [['女人'], ['篮球'], ['桌子'], ['小猫']],\n",
       " 'verb': [['看着'], ['坐在'], ['听着'], ['看见']],\n",
       " 'Adj': [['蓝色的'], ['好看的'], ['小小的']]}"
      ]
     },
     "execution_count": 89,
     "metadata": {},
     "output_type": "execute_result"
    }
   ],
   "source": [
    "example_grammar"
   ]
  },
  {
   "cell_type": "code",
   "execution_count": 116,
   "metadata": {
    "scrolled": true
   },
   "outputs": [
    {
     "name": "stdout",
     "output_type": "stream",
     "text": [
      "sentence: 一个女人听着这个篮球 with Prb: 3.0735162853768162e-21\n",
      "sentence: 一个好看的小猫看见一个桌子 with Prb: 1.339402560001278e-23\n",
      "sentence: 一个好看的小小的篮球看着这个蓝色的蓝色的桌子 with Prb: 6.544844001506326e-41\n",
      "sentence: 这个小猫看见一个桌子 with Prb: 1.3825534919569084e-22\n",
      "sentence: 一个小猫听着这个小小的女人 with Prb: 4.181716737877728e-28\n",
      "sentence: 一个小小的小小的小小的桌子看着一个女人 with Prb: 4.33484186749214e-35\n",
      "sentence: 这个篮球看着一个好看的好看的好看的女人 with Prb: 1.67531906890294e-41\n",
      "sentence: 一个篮球看着一个好看的好看的小小的好看的好看的好看的篮球 with Prb: 3.360678867277524e-58\n",
      "sentence: 这个蓝色的篮球看着一个桌子 with Prb: 1.2002824466628367e-27\n",
      "sentence: 这个蓝色的女人坐在一个篮球 with Prb: 2.616479679318347e-24\n"
     ]
    }
   ],
   "source": [
    "# 生成10条语句，并计算每一句的概率\n",
    "for sen in [generate(gram=example_grammar, target='sentence') for i in range(10)]:\n",
    "    print('sentence: {} with Prb: {}'.format(sen, get_probablity(sen)))"
   ]
  },
  {
   "cell_type": "code",
   "execution_count": 117,
   "metadata": {},
   "outputs": [
    {
     "name": "stdout",
     "output_type": "stream",
     "text": [
      "明天晚上请你吃大餐，我们一起吃苹果 is more possible\n",
      "---- 今天晚上请你吃大餐，我们一起吃日料 with probility 1.5903389425741782e-45\n",
      "---- 明天晚上请你吃大餐，我们一起吃苹果 with probility 6.653978135730363e-43\n",
      "真是一只好看的小猫 is more possible\n",
      "---- 真事一只好看的小猫 with probility 3.0233993266831647e-27\n",
      "---- 真是一只好看的小猫 with probility 8.273018279582945e-22\n",
      "今晚我去吃火锅 is more possible\n",
      "---- 今晚我去吃火锅 with probility 1.7325227255339101e-18\n",
      "---- 今晚火锅去吃我 with probility 1.4852604423993444e-20\n",
      "养乐多绿来一杯 is more possible\n",
      "---- 洋葱奶昔来一杯 with probility 7.580540796399728e-19\n",
      "---- 养乐多绿来一杯 with probility 7.125708348615745e-17\n"
     ]
    }
   ],
   "source": [
    "need_compared = [\n",
    "    \"今天晚上请你吃大餐，我们一起吃日料 明天晚上请你吃大餐，我们一起吃苹果\",\n",
    "    \"真事一只好看的小猫 真是一只好看的小猫\",\n",
    "    \"今晚我去吃火锅 今晚火锅去吃我\",\n",
    "    \"洋葱奶昔来一杯 养乐多绿来一杯\"\n",
    "]\n",
    "\n",
    "for s in need_compared:\n",
    "    s1, s2 = s.split()\n",
    "    p1, p2 = get_probablity(s1), get_probablity(s2)\n",
    "    \n",
    "    better = s1 if p1 > p2 else s2\n",
    "    \n",
    "    print('{} is more possible'.format(better))\n",
    "    print('-'*4 + ' {} with probility {}'.format(s1, p1))\n",
    "    print('-'*4 + ' {} with probility {}'.format(s2, p2))"
   ]
  },
  {
   "cell_type": "markdown",
   "metadata": {},
   "source": [
    "## 【高老师】\n",
    "More Data, Better Result.  \n",
    "模型再好，不如数据量大。  \n",
    "数据比模型重要。"
   ]
  },
  {
   "cell_type": "code",
   "execution_count": null,
   "metadata": {},
   "outputs": [],
   "source": []
  }
 ],
 "metadata": {
  "kernelspec": {
   "display_name": "Python 3",
   "language": "python",
   "name": "python3"
  },
  "language_info": {
   "codemirror_mode": {
    "name": "ipython",
    "version": 3
   },
   "file_extension": ".py",
   "mimetype": "text/x-python",
   "name": "python",
   "nbconvert_exporter": "python",
   "pygments_lexer": "ipython3",
   "version": "3.8.1"
  }
 },
 "nbformat": 4,
 "nbformat_minor": 2
}
